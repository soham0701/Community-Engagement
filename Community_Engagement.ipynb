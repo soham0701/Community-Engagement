{
  "nbformat": 4,
  "nbformat_minor": 0,
  "metadata": {
    "colab": {
      "provenance": [],
      "collapsed_sections": [],
      "authorship_tag": "ABX9TyPsAnXbqxJtOvNkA9wLEqDd",
      "include_colab_link": true
    },
    "kernelspec": {
      "name": "python3",
      "display_name": "Python 3"
    },
    "language_info": {
      "name": "python"
    }
  },
  "cells": [
    {
      "cell_type": "markdown",
      "metadata": {
        "id": "view-in-github",
        "colab_type": "text"
      },
      "source": [
        "<a href=\"https://colab.research.google.com/github/soham0701/Community-Engagement/blob/main/Community_Engagement.ipynb\" target=\"_parent\"><img src=\"https://colab.research.google.com/assets/colab-badge.svg\" alt=\"Open In Colab\"/></a>"
      ]
    },
    {
      "cell_type": "markdown",
      "source": [
        "## Importing Libraries and Mounting Google Drive"
      ],
      "metadata": {
        "id": "liNHXxe8qfCb"
      }
    },
    {
      "cell_type": "code",
      "source": [
        "import warnings\n",
        "warnings.simplefilter(action='ignore', category=FutureWarning)\n",
        "\n",
        "import pandas as pd \n",
        "import os\n",
        "import glob\n",
        "import shutil"
      ],
      "metadata": {
        "id": "cDn2YRS6qgZ3"
      },
      "execution_count": 159,
      "outputs": []
    },
    {
      "cell_type": "code",
      "source": [
        "from google.colab import drive\n",
        "drive.mount('/content/drive')"
      ],
      "metadata": {
        "colab": {
          "base_uri": "https://localhost:8080/"
        },
        "id": "K09X6zgjSh38",
        "outputId": "077a9a39-1191-4221-811f-68a4220f65b8"
      },
      "execution_count": 2,
      "outputs": [
        {
          "output_type": "stream",
          "name": "stdout",
          "text": [
            "Mounted at /content/drive\n"
          ]
        }
      ]
    },
    {
      "cell_type": "markdown",
      "source": [
        "## Collecting all the json files "
      ],
      "metadata": {
        "id": "93S7bcZHq7o4"
      }
    },
    {
      "cell_type": "code",
      "source": [
        "os.listdir()"
      ],
      "metadata": {
        "colab": {
          "base_uri": "https://localhost:8080/"
        },
        "id": "otkcyWCbSjKB",
        "outputId": "499ff16b-5c1a-41d6-c11c-16abb86b2000"
      },
      "execution_count": null,
      "outputs": [
        {
          "output_type": "execute_result",
          "data": {
            "text/plain": [
              "['.config', 'drive', 'sample_data']"
            ]
          },
          "metadata": {},
          "execution_count": 3
        }
      ]
    },
    {
      "cell_type": "code",
      "source": [
        "path='/content/drive/MyDrive/ds-data'\n",
        "os.chdir(path)"
      ],
      "metadata": {
        "id": "UtOKoT5yS4XM"
      },
      "execution_count": null,
      "outputs": []
    },
    {
      "cell_type": "code",
      "source": [
        "os.listdir()"
      ],
      "metadata": {
        "colab": {
          "base_uri": "https://localhost:8080/"
        },
        "id": "Ch5b7bIzTB3G",
        "outputId": "36a4486e-8ca1-4813-a5e4-47a7cc56f531"
      },
      "execution_count": null,
      "outputs": [
        {
          "output_type": "execute_result",
          "data": {
            "text/plain": [
              "['04-09-202222:25:06T',\n",
              " '04-09-202221:19:11T',\n",
              " '04-09-202220:53:24T',\n",
              " '04-09-202221:21:00T',\n",
              " '04-09-202222:27:06T',\n",
              " '04-09-202221:55:15T',\n",
              " '04-09-202222:48:11T',\n",
              " '04-09-202222:21:57T',\n",
              " '04-09-202221:23:40T',\n",
              " '04-09-202222:30:06T',\n",
              " '04-09-202222:07:21T',\n",
              " '04-09-202221:44:07T',\n",
              " '04-09-202221:04:35T',\n",
              " '04-09-202221:16:02T',\n",
              " '04-09-202221:56:28T',\n",
              " '04-09-202222:17:33T',\n",
              " '04-09-202221:06:13T',\n",
              " '04-09-202221:59:45T',\n",
              " '04-09-202221:58:32T',\n",
              " '04-09-202221:48:57T',\n",
              " '05-09-202200:53:23T',\n",
              " '04-09-202222:55:32T',\n",
              " '04-09-202222:15:52T',\n",
              " '04-09-202221:42:03T',\n",
              " '04-09-202221:11:38T',\n",
              " '04-09-202221:57:44T',\n",
              " '05-09-202200:52:45T',\n",
              " '04-09-202221:40:25T',\n",
              " '04-09-202221:34:51T',\n",
              " '04-09-202221:08:55T',\n",
              " '04-09-202222:08:13T',\n",
              " '04-09-202221:30:15T',\n",
              " '04-09-202222:20:02T',\n",
              " '04-09-202221:26:33T',\n",
              " '04-09-202221:43:11T',\n",
              " '04-09-202222:54:46T',\n",
              " '04-09-202222:19:19T',\n",
              " '04-09-202222:28:49T',\n",
              " '04-09-202221:12:45T',\n",
              " '04-09-202222:49:30T',\n",
              " '04-09-202221:37:20T',\n",
              " '04-09-202222:54:07T',\n",
              " '04-09-202222:03:09T',\n",
              " '04-09-202222:51:55T',\n",
              " '04-09-202221:45:42T',\n",
              " '04-09-202221:44:48T',\n",
              " '04-09-202222:11:52T',\n",
              " '04-09-202221:29:16T',\n",
              " '04-09-202221:33:31T',\n",
              " '04-09-202221:08:05T',\n",
              " '04-09-202222:37:25T',\n",
              " '04-09-202221:46:48T',\n",
              " '04-09-202221:47:50T',\n",
              " '04-09-202221:51:02T',\n",
              " '04-09-202222:53:28T',\n",
              " '04-09-202221:28:21T',\n",
              " '04-09-202222:00:50T',\n",
              " '04-09-202222:46:44T',\n",
              " '04-09-202221:15:07T',\n",
              " '04-09-202221:27:29T',\n",
              " '04-09-202222:45:28T',\n",
              " '04-09-202222:38:48T',\n",
              " '04-09-202221:49:56T',\n",
              " '04-09-202221:18:08T',\n",
              " '04-09-202222:31:11T',\n",
              " '04-09-202222:52:43T',\n",
              " '04-09-202222:51:07T',\n",
              " '04-09-202222:26:12T',\n",
              " '04-09-202221:53:17T',\n",
              " '04-09-202222:09:25T',\n",
              " '04-09-202221:32:02T',\n",
              " '04-09-202221:52:06T',\n",
              " '04-09-202221:13:51T',\n",
              " '04-09-202220:57:49T',\n",
              " '04-09-202222:50:25T',\n",
              " '04-09-202221:02:51T',\n",
              " '04-09-202221:01:11T',\n",
              " '04-09-202221:10:11T',\n",
              " '04-09-202222:27:55T',\n",
              " '04-09-202221:54:14T',\n",
              " '04-09-202222:20:56T',\n",
              " '04-09-202221:17:11T',\n",
              " '04-09-202220:59:19T',\n",
              " '04-09-202222:13:38T',\n",
              " '04-09-202222:47:34T',\n",
              " '04-09-202222:05:31T',\n",
              " '04-09-202221:25:19T']"
            ]
          },
          "metadata": {},
          "execution_count": 5
        }
      ]
    },
    {
      "cell_type": "code",
      "source": [
        "extension = 'csv'\n",
        "all_filenames = [i for i in glob.glob('*.{}'.format(extension))]"
      ],
      "metadata": {
        "id": "Lw3-3PTfqukY"
      },
      "execution_count": null,
      "outputs": []
    },
    {
      "cell_type": "code",
      "source": [
        "joined_list=[]\n",
        "for i in os.listdir():\n",
        "  os.chdir(path+'/'+i)\n",
        "  for j in os.listdir():\n",
        "    shutil.copy(path+'/'+i+'/'+j,'/content/drive/MyDrive/combined_jsons')\n",
        "    \n"
      ],
      "metadata": {
        "id": "SnvC0l41TDn8"
      },
      "execution_count": null,
      "outputs": []
    },
    {
      "cell_type": "code",
      "source": [
        "os.chdir('/content/drive/MyDrive/combined_jsons')"
      ],
      "metadata": {
        "id": "RCb7TLylcoVe"
      },
      "execution_count": null,
      "outputs": []
    },
    {
      "cell_type": "code",
      "source": [
        "extension = 'json'\n",
        "all_filenames = [i for i in glob.glob('*.{}'.format(extension))]"
      ],
      "metadata": {
        "id": "fiQ9kU5dd7ix"
      },
      "execution_count": null,
      "outputs": []
    },
    {
      "cell_type": "code",
      "source": [
        "merged=pd.concat(map(pd.read_json,[i for i in all_filenames]),ignore_index=True)"
      ],
      "metadata": {
        "id": "qVIdv0K41A-m"
      },
      "execution_count": null,
      "outputs": []
    },
    {
      "cell_type": "code",
      "source": [
        "merged['text']"
      ],
      "metadata": {
        "colab": {
          "base_uri": "https://localhost:8080/"
        },
        "id": "j26MykIo1Ehh",
        "outputId": "f114f6c1-b546-49f9-b8b3-a40dc9aaa11e"
      },
      "execution_count": null,
      "outputs": [
        {
          "output_type": "execute_result",
          "data": {
            "text/plain": [
              "0        {'text': 'As far as I know, it's in binance. I...\n",
              "1        {'text': 'Anyone know whether terra btc bag ha...\n",
              "2                                           {'text': None}\n",
              "3        {'text': 'lmao, chainlink is so scuff that the...\n",
              "4        {'text': 'Will next update unleash the rekt or...\n",
              "                               ...                        \n",
              "34107    {'text': 'hahaha damn man, holy shit that suck...\n",
              "34108    {'text': 'Those two are more for coins. I’m re...\n",
              "34109    {'text': 'GameStop has overtaken Coinbase in t...\n",
              "34110                               {'text': 'coingecko?'}\n",
              "34111    {'text': 'Quick question pls, is there a CMC(c...\n",
              "Name: text, Length: 34112, dtype: object"
            ]
          },
          "metadata": {},
          "execution_count": 23
        }
      ]
    },
    {
      "cell_type": "code",
      "source": [
        "merged.to_json('merged.json')"
      ],
      "metadata": {
        "id": "FyrNxER61oeA"
      },
      "execution_count": null,
      "outputs": []
    },
    {
      "cell_type": "markdown",
      "source": [
        "## Prepocessing on the merged json file"
      ],
      "metadata": {
        "id": "-HEAgsmyrDyO"
      }
    },
    {
      "cell_type": "code",
      "source": [
        "df=pd.read_json('/content/drive/MyDrive/SuperMind/combined_jsons/merged.json')"
      ],
      "metadata": {
        "id": "j9KlggeSDQnt"
      },
      "execution_count": 122,
      "outputs": []
    },
    {
      "cell_type": "code",
      "source": [
        "df.info()"
      ],
      "metadata": {
        "colab": {
          "base_uri": "https://localhost:8080/"
        },
        "id": "1Izyq6K8DQcf",
        "outputId": "d90db076-0e5b-42a1-a4bf-09f40e894dd9"
      },
      "execution_count": 123,
      "outputs": [
        {
          "output_type": "stream",
          "name": "stdout",
          "text": [
            "<class 'pandas.core.frame.DataFrame'>\n",
            "Int64Index: 34112 entries, 0 to 34111\n",
            "Data columns (total 7 columns):\n",
            " #   Column        Non-Null Count  Dtype \n",
            "---  ------        --------------  ----- \n",
            " 0   id            34112 non-null  int64 \n",
            " 1   general       34112 non-null  object\n",
            " 2   text          34112 non-null  object\n",
            " 3   conversation  34112 non-null  object\n",
            " 4   engagement    34112 non-null  object\n",
            " 5   forward       34112 non-null  object\n",
            " 6   image         911 non-null    object\n",
            "dtypes: int64(1), object(6)\n",
            "memory usage: 2.1+ MB\n"
          ]
        }
      ]
    },
    {
      "cell_type": "code",
      "source": [
        "df.describe()"
      ],
      "metadata": {
        "colab": {
          "base_uri": "https://localhost:8080/",
          "height": 300
        },
        "id": "twn6_TgRDr3L",
        "outputId": "b695bbe3-e308-45a5-f7a0-abfb8e613b9c"
      },
      "execution_count": 124,
      "outputs": [
        {
          "output_type": "execute_result",
          "data": {
            "text/plain": [
              "                  id\n",
              "count   34112.000000\n",
              "mean   356947.558044\n",
              "std     11833.629581\n",
              "min    336745.000000\n",
              "25%    346755.750000\n",
              "50%    356723.500000\n",
              "75%    367258.250000\n",
              "max    377931.000000"
            ],
            "text/html": [
              "\n",
              "  <div id=\"df-e91a79c7-e5f9-4888-9169-f7f0822f81e7\">\n",
              "    <div class=\"colab-df-container\">\n",
              "      <div>\n",
              "<style scoped>\n",
              "    .dataframe tbody tr th:only-of-type {\n",
              "        vertical-align: middle;\n",
              "    }\n",
              "\n",
              "    .dataframe tbody tr th {\n",
              "        vertical-align: top;\n",
              "    }\n",
              "\n",
              "    .dataframe thead th {\n",
              "        text-align: right;\n",
              "    }\n",
              "</style>\n",
              "<table border=\"1\" class=\"dataframe\">\n",
              "  <thead>\n",
              "    <tr style=\"text-align: right;\">\n",
              "      <th></th>\n",
              "      <th>id</th>\n",
              "    </tr>\n",
              "  </thead>\n",
              "  <tbody>\n",
              "    <tr>\n",
              "      <th>count</th>\n",
              "      <td>34112.000000</td>\n",
              "    </tr>\n",
              "    <tr>\n",
              "      <th>mean</th>\n",
              "      <td>356947.558044</td>\n",
              "    </tr>\n",
              "    <tr>\n",
              "      <th>std</th>\n",
              "      <td>11833.629581</td>\n",
              "    </tr>\n",
              "    <tr>\n",
              "      <th>min</th>\n",
              "      <td>336745.000000</td>\n",
              "    </tr>\n",
              "    <tr>\n",
              "      <th>25%</th>\n",
              "      <td>346755.750000</td>\n",
              "    </tr>\n",
              "    <tr>\n",
              "      <th>50%</th>\n",
              "      <td>356723.500000</td>\n",
              "    </tr>\n",
              "    <tr>\n",
              "      <th>75%</th>\n",
              "      <td>367258.250000</td>\n",
              "    </tr>\n",
              "    <tr>\n",
              "      <th>max</th>\n",
              "      <td>377931.000000</td>\n",
              "    </tr>\n",
              "  </tbody>\n",
              "</table>\n",
              "</div>\n",
              "      <button class=\"colab-df-convert\" onclick=\"convertToInteractive('df-e91a79c7-e5f9-4888-9169-f7f0822f81e7')\"\n",
              "              title=\"Convert this dataframe to an interactive table.\"\n",
              "              style=\"display:none;\">\n",
              "        \n",
              "  <svg xmlns=\"http://www.w3.org/2000/svg\" height=\"24px\"viewBox=\"0 0 24 24\"\n",
              "       width=\"24px\">\n",
              "    <path d=\"M0 0h24v24H0V0z\" fill=\"none\"/>\n",
              "    <path d=\"M18.56 5.44l.94 2.06.94-2.06 2.06-.94-2.06-.94-.94-2.06-.94 2.06-2.06.94zm-11 1L8.5 8.5l.94-2.06 2.06-.94-2.06-.94L8.5 2.5l-.94 2.06-2.06.94zm10 10l.94 2.06.94-2.06 2.06-.94-2.06-.94-.94-2.06-.94 2.06-2.06.94z\"/><path d=\"M17.41 7.96l-1.37-1.37c-.4-.4-.92-.59-1.43-.59-.52 0-1.04.2-1.43.59L10.3 9.45l-7.72 7.72c-.78.78-.78 2.05 0 2.83L4 21.41c.39.39.9.59 1.41.59.51 0 1.02-.2 1.41-.59l7.78-7.78 2.81-2.81c.8-.78.8-2.07 0-2.86zM5.41 20L4 18.59l7.72-7.72 1.47 1.35L5.41 20z\"/>\n",
              "  </svg>\n",
              "      </button>\n",
              "      \n",
              "  <style>\n",
              "    .colab-df-container {\n",
              "      display:flex;\n",
              "      flex-wrap:wrap;\n",
              "      gap: 12px;\n",
              "    }\n",
              "\n",
              "    .colab-df-convert {\n",
              "      background-color: #E8F0FE;\n",
              "      border: none;\n",
              "      border-radius: 50%;\n",
              "      cursor: pointer;\n",
              "      display: none;\n",
              "      fill: #1967D2;\n",
              "      height: 32px;\n",
              "      padding: 0 0 0 0;\n",
              "      width: 32px;\n",
              "    }\n",
              "\n",
              "    .colab-df-convert:hover {\n",
              "      background-color: #E2EBFA;\n",
              "      box-shadow: 0px 1px 2px rgba(60, 64, 67, 0.3), 0px 1px 3px 1px rgba(60, 64, 67, 0.15);\n",
              "      fill: #174EA6;\n",
              "    }\n",
              "\n",
              "    [theme=dark] .colab-df-convert {\n",
              "      background-color: #3B4455;\n",
              "      fill: #D2E3FC;\n",
              "    }\n",
              "\n",
              "    [theme=dark] .colab-df-convert:hover {\n",
              "      background-color: #434B5C;\n",
              "      box-shadow: 0px 1px 3px 1px rgba(0, 0, 0, 0.15);\n",
              "      filter: drop-shadow(0px 1px 2px rgba(0, 0, 0, 0.3));\n",
              "      fill: #FFFFFF;\n",
              "    }\n",
              "  </style>\n",
              "\n",
              "      <script>\n",
              "        const buttonEl =\n",
              "          document.querySelector('#df-e91a79c7-e5f9-4888-9169-f7f0822f81e7 button.colab-df-convert');\n",
              "        buttonEl.style.display =\n",
              "          google.colab.kernel.accessAllowed ? 'block' : 'none';\n",
              "\n",
              "        async function convertToInteractive(key) {\n",
              "          const element = document.querySelector('#df-e91a79c7-e5f9-4888-9169-f7f0822f81e7');\n",
              "          const dataTable =\n",
              "            await google.colab.kernel.invokeFunction('convertToInteractive',\n",
              "                                                     [key], {});\n",
              "          if (!dataTable) return;\n",
              "\n",
              "          const docLinkHtml = 'Like what you see? Visit the ' +\n",
              "            '<a target=\"_blank\" href=https://colab.research.google.com/notebooks/data_table.ipynb>data table notebook</a>'\n",
              "            + ' to learn more about interactive tables.';\n",
              "          element.innerHTML = '';\n",
              "          dataTable['output_type'] = 'display_data';\n",
              "          await google.colab.output.renderOutput(dataTable, element);\n",
              "          const docLink = document.createElement('div');\n",
              "          docLink.innerHTML = docLinkHtml;\n",
              "          element.appendChild(docLink);\n",
              "        }\n",
              "      </script>\n",
              "    </div>\n",
              "  </div>\n",
              "  "
            ]
          },
          "metadata": {},
          "execution_count": 124
        }
      ]
    },
    {
      "cell_type": "code",
      "source": [
        "df['id'].nunique()"
      ],
      "metadata": {
        "colab": {
          "base_uri": "https://localhost:8080/"
        },
        "id": "JxbVTxgeDr0V",
        "outputId": "4e43a53e-e8b5-4859-fa01-8892a3bf63c1"
      },
      "execution_count": 125,
      "outputs": [
        {
          "output_type": "execute_result",
          "data": {
            "text/plain": [
              "34112"
            ]
          },
          "metadata": {},
          "execution_count": 125
        }
      ]
    },
    {
      "cell_type": "code",
      "source": [
        "df.head()"
      ],
      "metadata": {
        "colab": {
          "base_uri": "https://localhost:8080/",
          "height": 424
        },
        "id": "XqwHzDbTrwc3",
        "outputId": "4b5ad85a-ba58-4d22-f68c-d2aafc5a9e4c"
      },
      "execution_count": 126,
      "outputs": [
        {
          "output_type": "execute_result",
          "data": {
            "text/plain": [
              "       id                                   general  \\\n",
              "0  347078  {'ref_id': 347078, 'date': 1652379411.0}   \n",
              "1  347077  {'ref_id': 347077, 'date': 1652379352.0}   \n",
              "2  347075  {'ref_id': 347075, 'date': 1652378579.0}   \n",
              "3  347074  {'ref_id': 347074, 'date': 1652378533.0}   \n",
              "4  347073  {'ref_id': 347073, 'date': 1652378307.0}   \n",
              "\n",
              "                                                text  \\\n",
              "0  {'text': 'As far as I know, it's in binance. I...   \n",
              "1  {'text': 'Anyone know whether terra btc bag ha...   \n",
              "2                                     {'text': None}   \n",
              "3  {'text': 'lmao, chainlink is so scuff that the...   \n",
              "4  {'text': 'Will next update unleash the rekt or...   \n",
              "\n",
              "                                        conversation  \\\n",
              "0  {'root_ref': None, 'reply_ref': None, 'sender'...   \n",
              "1  {'root_ref': None, 'reply_ref': None, 'sender'...   \n",
              "2  {'root_ref': None, 'reply_ref': None, 'sender'...   \n",
              "3  {'root_ref': 346897, 'reply_ref': 347072, 'sen...   \n",
              "4  {'root_ref': None, 'reply_ref': None, 'sender'...   \n",
              "\n",
              "                                          engagement  \\\n",
              "0  {'reaction_list': [], 'mentions_list': [], 'ha...   \n",
              "1  {'reaction_list': [], 'mentions_list': [], 'ha...   \n",
              "2  {'reaction_list': [], 'mentions_list': [], 'ha...   \n",
              "3  {'reaction_list': [], 'mentions_list': [], 'ha...   \n",
              "4  {'reaction_list': [], 'mentions_list': [], 'ha...   \n",
              "\n",
              "                                             forward  \\\n",
              "0  {'for_ref_id': None, 'for_from_channel': None,...   \n",
              "1  {'for_ref_id': None, 'for_from_channel': None,...   \n",
              "2  {'for_ref_id': None, 'for_from_channel': None,...   \n",
              "3  {'for_ref_id': None, 'for_from_channel': None,...   \n",
              "4  {'for_ref_id': None, 'for_from_channel': None,...   \n",
              "\n",
              "                                               image  \n",
              "0                                               None  \n",
              "1                                               None  \n",
              "2  {'ref': 'telegram/message_asset/347075.png', '...  \n",
              "3                                               None  \n",
              "4                                               None  "
            ],
            "text/html": [
              "\n",
              "  <div id=\"df-afb48226-b266-4c63-a26f-7b81558182be\">\n",
              "    <div class=\"colab-df-container\">\n",
              "      <div>\n",
              "<style scoped>\n",
              "    .dataframe tbody tr th:only-of-type {\n",
              "        vertical-align: middle;\n",
              "    }\n",
              "\n",
              "    .dataframe tbody tr th {\n",
              "        vertical-align: top;\n",
              "    }\n",
              "\n",
              "    .dataframe thead th {\n",
              "        text-align: right;\n",
              "    }\n",
              "</style>\n",
              "<table border=\"1\" class=\"dataframe\">\n",
              "  <thead>\n",
              "    <tr style=\"text-align: right;\">\n",
              "      <th></th>\n",
              "      <th>id</th>\n",
              "      <th>general</th>\n",
              "      <th>text</th>\n",
              "      <th>conversation</th>\n",
              "      <th>engagement</th>\n",
              "      <th>forward</th>\n",
              "      <th>image</th>\n",
              "    </tr>\n",
              "  </thead>\n",
              "  <tbody>\n",
              "    <tr>\n",
              "      <th>0</th>\n",
              "      <td>347078</td>\n",
              "      <td>{'ref_id': 347078, 'date': 1652379411.0}</td>\n",
              "      <td>{'text': 'As far as I know, it's in binance. I...</td>\n",
              "      <td>{'root_ref': None, 'reply_ref': None, 'sender'...</td>\n",
              "      <td>{'reaction_list': [], 'mentions_list': [], 'ha...</td>\n",
              "      <td>{'for_ref_id': None, 'for_from_channel': None,...</td>\n",
              "      <td>None</td>\n",
              "    </tr>\n",
              "    <tr>\n",
              "      <th>1</th>\n",
              "      <td>347077</td>\n",
              "      <td>{'ref_id': 347077, 'date': 1652379352.0}</td>\n",
              "      <td>{'text': 'Anyone know whether terra btc bag ha...</td>\n",
              "      <td>{'root_ref': None, 'reply_ref': None, 'sender'...</td>\n",
              "      <td>{'reaction_list': [], 'mentions_list': [], 'ha...</td>\n",
              "      <td>{'for_ref_id': None, 'for_from_channel': None,...</td>\n",
              "      <td>None</td>\n",
              "    </tr>\n",
              "    <tr>\n",
              "      <th>2</th>\n",
              "      <td>347075</td>\n",
              "      <td>{'ref_id': 347075, 'date': 1652378579.0}</td>\n",
              "      <td>{'text': None}</td>\n",
              "      <td>{'root_ref': None, 'reply_ref': None, 'sender'...</td>\n",
              "      <td>{'reaction_list': [], 'mentions_list': [], 'ha...</td>\n",
              "      <td>{'for_ref_id': None, 'for_from_channel': None,...</td>\n",
              "      <td>{'ref': 'telegram/message_asset/347075.png', '...</td>\n",
              "    </tr>\n",
              "    <tr>\n",
              "      <th>3</th>\n",
              "      <td>347074</td>\n",
              "      <td>{'ref_id': 347074, 'date': 1652378533.0}</td>\n",
              "      <td>{'text': 'lmao, chainlink is so scuff that the...</td>\n",
              "      <td>{'root_ref': 346897, 'reply_ref': 347072, 'sen...</td>\n",
              "      <td>{'reaction_list': [], 'mentions_list': [], 'ha...</td>\n",
              "      <td>{'for_ref_id': None, 'for_from_channel': None,...</td>\n",
              "      <td>None</td>\n",
              "    </tr>\n",
              "    <tr>\n",
              "      <th>4</th>\n",
              "      <td>347073</td>\n",
              "      <td>{'ref_id': 347073, 'date': 1652378307.0}</td>\n",
              "      <td>{'text': 'Will next update unleash the rekt or...</td>\n",
              "      <td>{'root_ref': None, 'reply_ref': None, 'sender'...</td>\n",
              "      <td>{'reaction_list': [], 'mentions_list': [], 'ha...</td>\n",
              "      <td>{'for_ref_id': None, 'for_from_channel': None,...</td>\n",
              "      <td>None</td>\n",
              "    </tr>\n",
              "  </tbody>\n",
              "</table>\n",
              "</div>\n",
              "      <button class=\"colab-df-convert\" onclick=\"convertToInteractive('df-afb48226-b266-4c63-a26f-7b81558182be')\"\n",
              "              title=\"Convert this dataframe to an interactive table.\"\n",
              "              style=\"display:none;\">\n",
              "        \n",
              "  <svg xmlns=\"http://www.w3.org/2000/svg\" height=\"24px\"viewBox=\"0 0 24 24\"\n",
              "       width=\"24px\">\n",
              "    <path d=\"M0 0h24v24H0V0z\" fill=\"none\"/>\n",
              "    <path d=\"M18.56 5.44l.94 2.06.94-2.06 2.06-.94-2.06-.94-.94-2.06-.94 2.06-2.06.94zm-11 1L8.5 8.5l.94-2.06 2.06-.94-2.06-.94L8.5 2.5l-.94 2.06-2.06.94zm10 10l.94 2.06.94-2.06 2.06-.94-2.06-.94-.94-2.06-.94 2.06-2.06.94z\"/><path d=\"M17.41 7.96l-1.37-1.37c-.4-.4-.92-.59-1.43-.59-.52 0-1.04.2-1.43.59L10.3 9.45l-7.72 7.72c-.78.78-.78 2.05 0 2.83L4 21.41c.39.39.9.59 1.41.59.51 0 1.02-.2 1.41-.59l7.78-7.78 2.81-2.81c.8-.78.8-2.07 0-2.86zM5.41 20L4 18.59l7.72-7.72 1.47 1.35L5.41 20z\"/>\n",
              "  </svg>\n",
              "      </button>\n",
              "      \n",
              "  <style>\n",
              "    .colab-df-container {\n",
              "      display:flex;\n",
              "      flex-wrap:wrap;\n",
              "      gap: 12px;\n",
              "    }\n",
              "\n",
              "    .colab-df-convert {\n",
              "      background-color: #E8F0FE;\n",
              "      border: none;\n",
              "      border-radius: 50%;\n",
              "      cursor: pointer;\n",
              "      display: none;\n",
              "      fill: #1967D2;\n",
              "      height: 32px;\n",
              "      padding: 0 0 0 0;\n",
              "      width: 32px;\n",
              "    }\n",
              "\n",
              "    .colab-df-convert:hover {\n",
              "      background-color: #E2EBFA;\n",
              "      box-shadow: 0px 1px 2px rgba(60, 64, 67, 0.3), 0px 1px 3px 1px rgba(60, 64, 67, 0.15);\n",
              "      fill: #174EA6;\n",
              "    }\n",
              "\n",
              "    [theme=dark] .colab-df-convert {\n",
              "      background-color: #3B4455;\n",
              "      fill: #D2E3FC;\n",
              "    }\n",
              "\n",
              "    [theme=dark] .colab-df-convert:hover {\n",
              "      background-color: #434B5C;\n",
              "      box-shadow: 0px 1px 3px 1px rgba(0, 0, 0, 0.15);\n",
              "      filter: drop-shadow(0px 1px 2px rgba(0, 0, 0, 0.3));\n",
              "      fill: #FFFFFF;\n",
              "    }\n",
              "  </style>\n",
              "\n",
              "      <script>\n",
              "        const buttonEl =\n",
              "          document.querySelector('#df-afb48226-b266-4c63-a26f-7b81558182be button.colab-df-convert');\n",
              "        buttonEl.style.display =\n",
              "          google.colab.kernel.accessAllowed ? 'block' : 'none';\n",
              "\n",
              "        async function convertToInteractive(key) {\n",
              "          const element = document.querySelector('#df-afb48226-b266-4c63-a26f-7b81558182be');\n",
              "          const dataTable =\n",
              "            await google.colab.kernel.invokeFunction('convertToInteractive',\n",
              "                                                     [key], {});\n",
              "          if (!dataTable) return;\n",
              "\n",
              "          const docLinkHtml = 'Like what you see? Visit the ' +\n",
              "            '<a target=\"_blank\" href=https://colab.research.google.com/notebooks/data_table.ipynb>data table notebook</a>'\n",
              "            + ' to learn more about interactive tables.';\n",
              "          element.innerHTML = '';\n",
              "          dataTable['output_type'] = 'display_data';\n",
              "          await google.colab.output.renderOutput(dataTable, element);\n",
              "          const docLink = document.createElement('div');\n",
              "          docLink.innerHTML = docLinkHtml;\n",
              "          element.appendChild(docLink);\n",
              "        }\n",
              "      </script>\n",
              "    </div>\n",
              "  </div>\n",
              "  "
            ]
          },
          "metadata": {},
          "execution_count": 126
        }
      ]
    },
    {
      "cell_type": "code",
      "source": [
        "clean_text=[]\n",
        "for i in df['text']:\n",
        "  for value in i.values():\n",
        "    clean_text.append(value)"
      ],
      "metadata": {
        "id": "SYeTG4C9GRso"
      },
      "execution_count": 129,
      "outputs": []
    },
    {
      "cell_type": "code",
      "source": [
        "df['cleaned_text']=clean_text"
      ],
      "metadata": {
        "id": "p7T--oxRGRjS"
      },
      "execution_count": 130,
      "outputs": []
    },
    {
      "cell_type": "code",
      "source": [
        "df['user_id']=''"
      ],
      "metadata": {
        "id": "zADX6ISZ73uB"
      },
      "execution_count": 131,
      "outputs": []
    },
    {
      "cell_type": "code",
      "source": [
        "for i in range (0,34112):\n",
        "  if df['conversation'][i]['sender']==None:\n",
        "    df['user_id'][i]=0\n",
        "  else:\n",
        "    df['user_id'][i]=df['conversation'][i]['sender']['ref']"
      ],
      "metadata": {
        "colab": {
          "base_uri": "https://localhost:8080/"
        },
        "id": "wfVmHjXw73rZ",
        "outputId": "732c9979-14f2-4b2c-820e-43fa2d4018c1"
      },
      "execution_count": 132,
      "outputs": [
        {
          "output_type": "stream",
          "name": "stderr",
          "text": [
            "/usr/local/lib/python3.7/dist-packages/ipykernel_launcher.py:5: SettingWithCopyWarning: \n",
            "A value is trying to be set on a copy of a slice from a DataFrame\n",
            "\n",
            "See the caveats in the documentation: https://pandas.pydata.org/pandas-docs/stable/user_guide/indexing.html#returning-a-view-versus-a-copy\n",
            "  \"\"\"\n",
            "/usr/local/lib/python3.7/dist-packages/ipykernel_launcher.py:3: SettingWithCopyWarning: \n",
            "A value is trying to be set on a copy of a slice from a DataFrame\n",
            "\n",
            "See the caveats in the documentation: https://pandas.pydata.org/pandas-docs/stable/user_guide/indexing.html#returning-a-view-versus-a-copy\n",
            "  This is separate from the ipykernel package so we can avoid doing imports until\n"
          ]
        }
      ]
    },
    {
      "cell_type": "code",
      "source": [
        "df['bot']=''"
      ],
      "metadata": {
        "id": "mN26trZd_spw"
      },
      "execution_count": 133,
      "outputs": []
    },
    {
      "cell_type": "code",
      "source": [
        "for i in range (0,34112):\n",
        "  if df['conversation'][i]['sender']!=None:\n",
        "    if df['conversation'][i]['sender']['is_bot']==True:\n",
        "      df['bot'][i]=1\n",
        "    else:\n",
        "      df['bot'][i]=0\n",
        "  else:\n",
        "    df['bot'][i]=None"
      ],
      "metadata": {
        "colab": {
          "base_uri": "https://localhost:8080/"
        },
        "id": "x7uw5UVa73mP",
        "outputId": "d992d1a1-bb39-4d1f-cb42-8af40978e83a"
      },
      "execution_count": 134,
      "outputs": [
        {
          "output_type": "stream",
          "name": "stderr",
          "text": [
            "/usr/local/lib/python3.7/dist-packages/ipykernel_launcher.py:6: SettingWithCopyWarning: \n",
            "A value is trying to be set on a copy of a slice from a DataFrame\n",
            "\n",
            "See the caveats in the documentation: https://pandas.pydata.org/pandas-docs/stable/user_guide/indexing.html#returning-a-view-versus-a-copy\n",
            "  \n",
            "/usr/local/lib/python3.7/dist-packages/ipykernel_launcher.py:8: SettingWithCopyWarning: \n",
            "A value is trying to be set on a copy of a slice from a DataFrame\n",
            "\n",
            "See the caveats in the documentation: https://pandas.pydata.org/pandas-docs/stable/user_guide/indexing.html#returning-a-view-versus-a-copy\n",
            "  \n"
          ]
        }
      ]
    },
    {
      "cell_type": "code",
      "source": [
        "df['reaction_count']=''"
      ],
      "metadata": {
        "id": "dnX69ZenILiB"
      },
      "execution_count": 141,
      "outputs": []
    },
    {
      "cell_type": "code",
      "source": [
        "for i in range (0,34112):\n",
        "  if len(df['engagement'][i]['reaction_list'])>0:\n",
        "    df['reaction_count'][i]=df['engagement'][i]['reaction_list'][0]['count']\n",
        "  else:\n",
        "    df['reaction_count'][i]=0"
      ],
      "metadata": {
        "colab": {
          "base_uri": "https://localhost:8080/"
        },
        "id": "FNNwCl6CGRHl",
        "outputId": "1e85dcb4-76d7-4569-e808-8d275812caa5"
      },
      "execution_count": 142,
      "outputs": [
        {
          "output_type": "stream",
          "name": "stderr",
          "text": [
            "/usr/local/lib/python3.7/dist-packages/ipykernel_launcher.py:5: SettingWithCopyWarning: \n",
            "A value is trying to be set on a copy of a slice from a DataFrame\n",
            "\n",
            "See the caveats in the documentation: https://pandas.pydata.org/pandas-docs/stable/user_guide/indexing.html#returning-a-view-versus-a-copy\n",
            "  \"\"\"\n",
            "/usr/local/lib/python3.7/dist-packages/ipykernel_launcher.py:3: SettingWithCopyWarning: \n",
            "A value is trying to be set on a copy of a slice from a DataFrame\n",
            "\n",
            "See the caveats in the documentation: https://pandas.pydata.org/pandas-docs/stable/user_guide/indexing.html#returning-a-view-versus-a-copy\n",
            "  This is separate from the ipykernel package so we can avoid doing imports until\n"
          ]
        }
      ]
    },
    {
      "cell_type": "code",
      "source": [
        "df['mentions']=''"
      ],
      "metadata": {
        "id": "hY5SBykD-sP4"
      },
      "execution_count": 143,
      "outputs": []
    },
    {
      "cell_type": "code",
      "source": [
        "for i in range (0,34112):\n",
        "  if len(df['engagement'][i]['mentions_list'])>0:\n",
        "    df['mentions'][i]=len(df['engagement'][i]['mentions_list'])\n",
        "  else:\n",
        "    df['mentions'][i]=0"
      ],
      "metadata": {
        "colab": {
          "base_uri": "https://localhost:8080/"
        },
        "id": "Z5WcN1_4-sNA",
        "outputId": "2f4d9edd-20ef-44aa-82f4-60848e82f5c7"
      },
      "execution_count": 144,
      "outputs": [
        {
          "output_type": "stream",
          "name": "stderr",
          "text": [
            "/usr/local/lib/python3.7/dist-packages/ipykernel_launcher.py:5: SettingWithCopyWarning: \n",
            "A value is trying to be set on a copy of a slice from a DataFrame\n",
            "\n",
            "See the caveats in the documentation: https://pandas.pydata.org/pandas-docs/stable/user_guide/indexing.html#returning-a-view-versus-a-copy\n",
            "  \"\"\"\n",
            "/usr/local/lib/python3.7/dist-packages/ipykernel_launcher.py:3: SettingWithCopyWarning: \n",
            "A value is trying to be set on a copy of a slice from a DataFrame\n",
            "\n",
            "See the caveats in the documentation: https://pandas.pydata.org/pandas-docs/stable/user_guide/indexing.html#returning-a-view-versus-a-copy\n",
            "  This is separate from the ipykernel package so we can avoid doing imports until\n"
          ]
        }
      ]
    },
    {
      "cell_type": "code",
      "source": [
        "df['replies']=''"
      ],
      "metadata": {
        "id": "-w96_QBd-sHb"
      },
      "execution_count": 145,
      "outputs": []
    },
    {
      "cell_type": "code",
      "source": [
        "for i in range(0,34112):\n",
        "  if df['conversation'][i]['reply_ref']==None:\n",
        "    df['replies'][i]=0\n",
        "  else:\n",
        "    df['replies'][i]=1"
      ],
      "metadata": {
        "colab": {
          "base_uri": "https://localhost:8080/"
        },
        "id": "8BaYDUVR5pFE",
        "outputId": "8e51607a-fba4-4fc6-d9de-9a6a81a767c3"
      },
      "execution_count": 146,
      "outputs": [
        {
          "output_type": "stream",
          "name": "stderr",
          "text": [
            "/usr/local/lib/python3.7/dist-packages/ipykernel_launcher.py:3: SettingWithCopyWarning: \n",
            "A value is trying to be set on a copy of a slice from a DataFrame\n",
            "\n",
            "See the caveats in the documentation: https://pandas.pydata.org/pandas-docs/stable/user_guide/indexing.html#returning-a-view-versus-a-copy\n",
            "  This is separate from the ipykernel package so we can avoid doing imports until\n",
            "/usr/local/lib/python3.7/dist-packages/ipykernel_launcher.py:5: SettingWithCopyWarning: \n",
            "A value is trying to be set on a copy of a slice from a DataFrame\n",
            "\n",
            "See the caveats in the documentation: https://pandas.pydata.org/pandas-docs/stable/user_guide/indexing.html#returning-a-view-versus-a-copy\n",
            "  \"\"\"\n"
          ]
        }
      ]
    },
    {
      "cell_type": "code",
      "source": [
        "df['forwarded']=''"
      ],
      "metadata": {
        "id": "fga0uHLqBnL4"
      },
      "execution_count": 147,
      "outputs": []
    },
    {
      "cell_type": "code",
      "source": [
        "for i in range(0,34112):\n",
        "  if df['forward'][i]['for_ref_id']==None:\n",
        "    df['forwarded'][i]=0\n",
        "  else:\n",
        "    df['forwarded'][i]=1"
      ],
      "metadata": {
        "colab": {
          "base_uri": "https://localhost:8080/"
        },
        "id": "QzpKY_GXBnIf",
        "outputId": "da1dc3ea-080e-43ce-f29b-15273ea8bae6"
      },
      "execution_count": 148,
      "outputs": [
        {
          "output_type": "stream",
          "name": "stderr",
          "text": [
            "/usr/local/lib/python3.7/dist-packages/ipykernel_launcher.py:3: SettingWithCopyWarning: \n",
            "A value is trying to be set on a copy of a slice from a DataFrame\n",
            "\n",
            "See the caveats in the documentation: https://pandas.pydata.org/pandas-docs/stable/user_guide/indexing.html#returning-a-view-versus-a-copy\n",
            "  This is separate from the ipykernel package so we can avoid doing imports until\n",
            "/usr/local/lib/python3.7/dist-packages/ipykernel_launcher.py:5: SettingWithCopyWarning: \n",
            "A value is trying to be set on a copy of a slice from a DataFrame\n",
            "\n",
            "See the caveats in the documentation: https://pandas.pydata.org/pandas-docs/stable/user_guide/indexing.html#returning-a-view-versus-a-copy\n",
            "  \"\"\"\n"
          ]
        }
      ]
    },
    {
      "cell_type": "code",
      "source": [
        "df['epoch_time']=''"
      ],
      "metadata": {
        "id": "xoGySgH5AQ5k"
      },
      "execution_count": 149,
      "outputs": []
    },
    {
      "cell_type": "code",
      "source": [
        "for i in range(0,34112):\n",
        "  df['epoch_time'][i]=df['general'][i]['date']"
      ],
      "metadata": {
        "colab": {
          "base_uri": "https://localhost:8080/"
        },
        "id": "0Shomdj5ARnw",
        "outputId": "daa10b10-0fc1-4a07-a07c-0ead5f0d1591"
      },
      "execution_count": 150,
      "outputs": [
        {
          "output_type": "stream",
          "name": "stderr",
          "text": [
            "/usr/local/lib/python3.7/dist-packages/ipykernel_launcher.py:2: SettingWithCopyWarning: \n",
            "A value is trying to be set on a copy of a slice from a DataFrame\n",
            "\n",
            "See the caveats in the documentation: https://pandas.pydata.org/pandas-docs/stable/user_guide/indexing.html#returning-a-view-versus-a-copy\n",
            "  \n"
          ]
        }
      ]
    },
    {
      "cell_type": "code",
      "source": [
        "for i in range(0,34112):\n",
        "  df['epoch_time'][i]=pd.to_datetime(df['epoch_time'][i],unit='s')"
      ],
      "metadata": {
        "colab": {
          "base_uri": "https://localhost:8080/"
        },
        "id": "xeBhQHepAXlv",
        "outputId": "b26e5d33-fb76-42ba-f2c3-2540ca3b2981"
      },
      "execution_count": 151,
      "outputs": [
        {
          "output_type": "stream",
          "name": "stderr",
          "text": [
            "/usr/local/lib/python3.7/dist-packages/ipykernel_launcher.py:2: SettingWithCopyWarning: \n",
            "A value is trying to be set on a copy of a slice from a DataFrame\n",
            "\n",
            "See the caveats in the documentation: https://pandas.pydata.org/pandas-docs/stable/user_guide/indexing.html#returning-a-view-versus-a-copy\n",
            "  \n"
          ]
        }
      ]
    },
    {
      "cell_type": "code",
      "source": [
        "df['week'] = pd.DatetimeIndex(df['epoch_time']).week"
      ],
      "metadata": {
        "colab": {
          "base_uri": "https://localhost:8080/"
        },
        "id": "011zGnUHBIHF",
        "outputId": "7c5956d9-4cd5-4c7c-b309-99823a61ad75"
      },
      "execution_count": 152,
      "outputs": [
        {
          "output_type": "stream",
          "name": "stderr",
          "text": [
            "/usr/local/lib/python3.7/dist-packages/ipykernel_launcher.py:1: FutureWarning: weekofyear and week have been deprecated, please use DatetimeIndex.isocalendar().week instead, which returns a Series.  To exactly reproduce the behavior of week and weekofyear and return an Index, you may call pd.Int64Index(idx.isocalendar().week)\n",
            "  \"\"\"Entry point for launching an IPython kernel.\n"
          ]
        }
      ]
    },
    {
      "cell_type": "code",
      "source": [
        "df['week'].unique()"
      ],
      "metadata": {
        "colab": {
          "base_uri": "https://localhost:8080/"
        },
        "id": "LMQzp6hvvwht",
        "outputId": "f97197ea-51f0-44b8-fe47-d4182fb1ff09"
      },
      "execution_count": 153,
      "outputs": [
        {
          "output_type": "execute_result",
          "data": {
            "text/plain": [
              "array([19, 31, 30, 35, 23, 16, 18, 22, 21, 25, 33, 20, 24, 13, 26, 32, 27,\n",
              "       28, 29, 14, 15, 17, 34])"
            ]
          },
          "metadata": {},
          "execution_count": 153
        }
      ]
    },
    {
      "cell_type": "code",
      "source": [
        "df.head()"
      ],
      "metadata": {
        "colab": {
          "base_uri": "https://localhost:8080/",
          "height": 739
        },
        "id": "uDPBgSYYaPvE",
        "outputId": "3942aec8-2a2a-449b-a249-d5d65029b23c"
      },
      "execution_count": 155,
      "outputs": [
        {
          "output_type": "execute_result",
          "data": {
            "text/plain": [
              "       id                                   general  \\\n",
              "0  347078  {'ref_id': 347078, 'date': 1652379411.0}   \n",
              "1  347077  {'ref_id': 347077, 'date': 1652379352.0}   \n",
              "2  347075  {'ref_id': 347075, 'date': 1652378579.0}   \n",
              "3  347074  {'ref_id': 347074, 'date': 1652378533.0}   \n",
              "4  347073  {'ref_id': 347073, 'date': 1652378307.0}   \n",
              "\n",
              "                                                text  \\\n",
              "0  {'text': 'As far as I know, it's in binance. I...   \n",
              "1  {'text': 'Anyone know whether terra btc bag ha...   \n",
              "2                                     {'text': None}   \n",
              "3  {'text': 'lmao, chainlink is so scuff that the...   \n",
              "4  {'text': 'Will next update unleash the rekt or...   \n",
              "\n",
              "                                        conversation  \\\n",
              "0  {'root_ref': None, 'reply_ref': None, 'sender'...   \n",
              "1  {'root_ref': None, 'reply_ref': None, 'sender'...   \n",
              "2  {'root_ref': None, 'reply_ref': None, 'sender'...   \n",
              "3  {'root_ref': 346897, 'reply_ref': 347072, 'sen...   \n",
              "4  {'root_ref': None, 'reply_ref': None, 'sender'...   \n",
              "\n",
              "                                          engagement  \\\n",
              "0  {'reaction_list': [], 'mentions_list': [], 'ha...   \n",
              "1  {'reaction_list': [], 'mentions_list': [], 'ha...   \n",
              "2  {'reaction_list': [], 'mentions_list': [], 'ha...   \n",
              "3  {'reaction_list': [], 'mentions_list': [], 'ha...   \n",
              "4  {'reaction_list': [], 'mentions_list': [], 'ha...   \n",
              "\n",
              "                                             forward  \\\n",
              "0  {'for_ref_id': None, 'for_from_channel': None,...   \n",
              "1  {'for_ref_id': None, 'for_from_channel': None,...   \n",
              "2  {'for_ref_id': None, 'for_from_channel': None,...   \n",
              "3  {'for_ref_id': None, 'for_from_channel': None,...   \n",
              "4  {'for_ref_id': None, 'for_from_channel': None,...   \n",
              "\n",
              "                                               image for_user_id  \\\n",
              "0                                               None        None   \n",
              "1                                               None        None   \n",
              "2  {'ref': 'telegram/message_asset/347075.png', '...        None   \n",
              "3                                               None        None   \n",
              "4                                               None        None   \n",
              "\n",
              "                                        cleaned_text    user_id bot  \\\n",
              "0  As far as I know, it's in binance. I'm assumin...  952121887   0   \n",
              "1  Anyone know whether terra btc bag has been sol...  453630271   0   \n",
              "2                                               None  561155713   0   \n",
              "3  lmao, chainlink is so scuff that they don't di...  459392242   0   \n",
              "4  Will next update unleash the rekt or are parti...  375542731   0   \n",
              "\n",
              "  reaction_count mentions replies forwarded           epoch_time  week  \n",
              "0              0        0       0         0  2022-05-12 18:16:51    19  \n",
              "1              0        0       0         0  2022-05-12 18:15:52    19  \n",
              "2              0        0       0         0  2022-05-12 18:02:59    19  \n",
              "3              0        0       1         0  2022-05-12 18:02:13    19  \n",
              "4              0        0       0         0  2022-05-12 17:58:27    19  "
            ],
            "text/html": [
              "\n",
              "  <div id=\"df-2448df5c-4616-452f-a190-a8a6743723e2\">\n",
              "    <div class=\"colab-df-container\">\n",
              "      <div>\n",
              "<style scoped>\n",
              "    .dataframe tbody tr th:only-of-type {\n",
              "        vertical-align: middle;\n",
              "    }\n",
              "\n",
              "    .dataframe tbody tr th {\n",
              "        vertical-align: top;\n",
              "    }\n",
              "\n",
              "    .dataframe thead th {\n",
              "        text-align: right;\n",
              "    }\n",
              "</style>\n",
              "<table border=\"1\" class=\"dataframe\">\n",
              "  <thead>\n",
              "    <tr style=\"text-align: right;\">\n",
              "      <th></th>\n",
              "      <th>id</th>\n",
              "      <th>general</th>\n",
              "      <th>text</th>\n",
              "      <th>conversation</th>\n",
              "      <th>engagement</th>\n",
              "      <th>forward</th>\n",
              "      <th>image</th>\n",
              "      <th>for_user_id</th>\n",
              "      <th>cleaned_text</th>\n",
              "      <th>user_id</th>\n",
              "      <th>bot</th>\n",
              "      <th>reaction_count</th>\n",
              "      <th>mentions</th>\n",
              "      <th>replies</th>\n",
              "      <th>forwarded</th>\n",
              "      <th>epoch_time</th>\n",
              "      <th>week</th>\n",
              "    </tr>\n",
              "  </thead>\n",
              "  <tbody>\n",
              "    <tr>\n",
              "      <th>0</th>\n",
              "      <td>347078</td>\n",
              "      <td>{'ref_id': 347078, 'date': 1652379411.0}</td>\n",
              "      <td>{'text': 'As far as I know, it's in binance. I...</td>\n",
              "      <td>{'root_ref': None, 'reply_ref': None, 'sender'...</td>\n",
              "      <td>{'reaction_list': [], 'mentions_list': [], 'ha...</td>\n",
              "      <td>{'for_ref_id': None, 'for_from_channel': None,...</td>\n",
              "      <td>None</td>\n",
              "      <td>None</td>\n",
              "      <td>As far as I know, it's in binance. I'm assumin...</td>\n",
              "      <td>952121887</td>\n",
              "      <td>0</td>\n",
              "      <td>0</td>\n",
              "      <td>0</td>\n",
              "      <td>0</td>\n",
              "      <td>0</td>\n",
              "      <td>2022-05-12 18:16:51</td>\n",
              "      <td>19</td>\n",
              "    </tr>\n",
              "    <tr>\n",
              "      <th>1</th>\n",
              "      <td>347077</td>\n",
              "      <td>{'ref_id': 347077, 'date': 1652379352.0}</td>\n",
              "      <td>{'text': 'Anyone know whether terra btc bag ha...</td>\n",
              "      <td>{'root_ref': None, 'reply_ref': None, 'sender'...</td>\n",
              "      <td>{'reaction_list': [], 'mentions_list': [], 'ha...</td>\n",
              "      <td>{'for_ref_id': None, 'for_from_channel': None,...</td>\n",
              "      <td>None</td>\n",
              "      <td>None</td>\n",
              "      <td>Anyone know whether terra btc bag has been sol...</td>\n",
              "      <td>453630271</td>\n",
              "      <td>0</td>\n",
              "      <td>0</td>\n",
              "      <td>0</td>\n",
              "      <td>0</td>\n",
              "      <td>0</td>\n",
              "      <td>2022-05-12 18:15:52</td>\n",
              "      <td>19</td>\n",
              "    </tr>\n",
              "    <tr>\n",
              "      <th>2</th>\n",
              "      <td>347075</td>\n",
              "      <td>{'ref_id': 347075, 'date': 1652378579.0}</td>\n",
              "      <td>{'text': None}</td>\n",
              "      <td>{'root_ref': None, 'reply_ref': None, 'sender'...</td>\n",
              "      <td>{'reaction_list': [], 'mentions_list': [], 'ha...</td>\n",
              "      <td>{'for_ref_id': None, 'for_from_channel': None,...</td>\n",
              "      <td>{'ref': 'telegram/message_asset/347075.png', '...</td>\n",
              "      <td>None</td>\n",
              "      <td>None</td>\n",
              "      <td>561155713</td>\n",
              "      <td>0</td>\n",
              "      <td>0</td>\n",
              "      <td>0</td>\n",
              "      <td>0</td>\n",
              "      <td>0</td>\n",
              "      <td>2022-05-12 18:02:59</td>\n",
              "      <td>19</td>\n",
              "    </tr>\n",
              "    <tr>\n",
              "      <th>3</th>\n",
              "      <td>347074</td>\n",
              "      <td>{'ref_id': 347074, 'date': 1652378533.0}</td>\n",
              "      <td>{'text': 'lmao, chainlink is so scuff that the...</td>\n",
              "      <td>{'root_ref': 346897, 'reply_ref': 347072, 'sen...</td>\n",
              "      <td>{'reaction_list': [], 'mentions_list': [], 'ha...</td>\n",
              "      <td>{'for_ref_id': None, 'for_from_channel': None,...</td>\n",
              "      <td>None</td>\n",
              "      <td>None</td>\n",
              "      <td>lmao, chainlink is so scuff that they don't di...</td>\n",
              "      <td>459392242</td>\n",
              "      <td>0</td>\n",
              "      <td>0</td>\n",
              "      <td>0</td>\n",
              "      <td>1</td>\n",
              "      <td>0</td>\n",
              "      <td>2022-05-12 18:02:13</td>\n",
              "      <td>19</td>\n",
              "    </tr>\n",
              "    <tr>\n",
              "      <th>4</th>\n",
              "      <td>347073</td>\n",
              "      <td>{'ref_id': 347073, 'date': 1652378307.0}</td>\n",
              "      <td>{'text': 'Will next update unleash the rekt or...</td>\n",
              "      <td>{'root_ref': None, 'reply_ref': None, 'sender'...</td>\n",
              "      <td>{'reaction_list': [], 'mentions_list': [], 'ha...</td>\n",
              "      <td>{'for_ref_id': None, 'for_from_channel': None,...</td>\n",
              "      <td>None</td>\n",
              "      <td>None</td>\n",
              "      <td>Will next update unleash the rekt or are parti...</td>\n",
              "      <td>375542731</td>\n",
              "      <td>0</td>\n",
              "      <td>0</td>\n",
              "      <td>0</td>\n",
              "      <td>0</td>\n",
              "      <td>0</td>\n",
              "      <td>2022-05-12 17:58:27</td>\n",
              "      <td>19</td>\n",
              "    </tr>\n",
              "  </tbody>\n",
              "</table>\n",
              "</div>\n",
              "      <button class=\"colab-df-convert\" onclick=\"convertToInteractive('df-2448df5c-4616-452f-a190-a8a6743723e2')\"\n",
              "              title=\"Convert this dataframe to an interactive table.\"\n",
              "              style=\"display:none;\">\n",
              "        \n",
              "  <svg xmlns=\"http://www.w3.org/2000/svg\" height=\"24px\"viewBox=\"0 0 24 24\"\n",
              "       width=\"24px\">\n",
              "    <path d=\"M0 0h24v24H0V0z\" fill=\"none\"/>\n",
              "    <path d=\"M18.56 5.44l.94 2.06.94-2.06 2.06-.94-2.06-.94-.94-2.06-.94 2.06-2.06.94zm-11 1L8.5 8.5l.94-2.06 2.06-.94-2.06-.94L8.5 2.5l-.94 2.06-2.06.94zm10 10l.94 2.06.94-2.06 2.06-.94-2.06-.94-.94-2.06-.94 2.06-2.06.94z\"/><path d=\"M17.41 7.96l-1.37-1.37c-.4-.4-.92-.59-1.43-.59-.52 0-1.04.2-1.43.59L10.3 9.45l-7.72 7.72c-.78.78-.78 2.05 0 2.83L4 21.41c.39.39.9.59 1.41.59.51 0 1.02-.2 1.41-.59l7.78-7.78 2.81-2.81c.8-.78.8-2.07 0-2.86zM5.41 20L4 18.59l7.72-7.72 1.47 1.35L5.41 20z\"/>\n",
              "  </svg>\n",
              "      </button>\n",
              "      \n",
              "  <style>\n",
              "    .colab-df-container {\n",
              "      display:flex;\n",
              "      flex-wrap:wrap;\n",
              "      gap: 12px;\n",
              "    }\n",
              "\n",
              "    .colab-df-convert {\n",
              "      background-color: #E8F0FE;\n",
              "      border: none;\n",
              "      border-radius: 50%;\n",
              "      cursor: pointer;\n",
              "      display: none;\n",
              "      fill: #1967D2;\n",
              "      height: 32px;\n",
              "      padding: 0 0 0 0;\n",
              "      width: 32px;\n",
              "    }\n",
              "\n",
              "    .colab-df-convert:hover {\n",
              "      background-color: #E2EBFA;\n",
              "      box-shadow: 0px 1px 2px rgba(60, 64, 67, 0.3), 0px 1px 3px 1px rgba(60, 64, 67, 0.15);\n",
              "      fill: #174EA6;\n",
              "    }\n",
              "\n",
              "    [theme=dark] .colab-df-convert {\n",
              "      background-color: #3B4455;\n",
              "      fill: #D2E3FC;\n",
              "    }\n",
              "\n",
              "    [theme=dark] .colab-df-convert:hover {\n",
              "      background-color: #434B5C;\n",
              "      box-shadow: 0px 1px 3px 1px rgba(0, 0, 0, 0.15);\n",
              "      filter: drop-shadow(0px 1px 2px rgba(0, 0, 0, 0.3));\n",
              "      fill: #FFFFFF;\n",
              "    }\n",
              "  </style>\n",
              "\n",
              "      <script>\n",
              "        const buttonEl =\n",
              "          document.querySelector('#df-2448df5c-4616-452f-a190-a8a6743723e2 button.colab-df-convert');\n",
              "        buttonEl.style.display =\n",
              "          google.colab.kernel.accessAllowed ? 'block' : 'none';\n",
              "\n",
              "        async function convertToInteractive(key) {\n",
              "          const element = document.querySelector('#df-2448df5c-4616-452f-a190-a8a6743723e2');\n",
              "          const dataTable =\n",
              "            await google.colab.kernel.invokeFunction('convertToInteractive',\n",
              "                                                     [key], {});\n",
              "          if (!dataTable) return;\n",
              "\n",
              "          const docLinkHtml = 'Like what you see? Visit the ' +\n",
              "            '<a target=\"_blank\" href=https://colab.research.google.com/notebooks/data_table.ipynb>data table notebook</a>'\n",
              "            + ' to learn more about interactive tables.';\n",
              "          element.innerHTML = '';\n",
              "          dataTable['output_type'] = 'display_data';\n",
              "          await google.colab.output.renderOutput(dataTable, element);\n",
              "          const docLink = document.createElement('div');\n",
              "          docLink.innerHTML = docLinkHtml;\n",
              "          element.appendChild(docLink);\n",
              "        }\n",
              "      </script>\n",
              "    </div>\n",
              "  </div>\n",
              "  "
            ]
          },
          "metadata": {},
          "execution_count": 155
        }
      ]
    },
    {
      "cell_type": "markdown",
      "source": [
        "## Grouping values by user_id"
      ],
      "metadata": {
        "id": "CAhN9P_UvRCW"
      }
    },
    {
      "cell_type": "code",
      "source": [
        "df.groupby('user_id')['cleaned_text'].nunique()"
      ],
      "metadata": {
        "colab": {
          "base_uri": "https://localhost:8080/"
        },
        "id": "oMwL8FNJEpzv",
        "outputId": "44827172-c200-4218-d56f-9252818dafa8"
      },
      "execution_count": null,
      "outputs": [
        {
          "output_type": "execute_result",
          "data": {
            "text/plain": [
              "user_id\n",
              "0             33\n",
              "65666          1\n",
              "226188         1\n",
              "291620         1\n",
              "355676        45\n",
              "              ..\n",
              "5598370554     1\n",
              "5642486416     6\n",
              "5648487984    32\n",
              "5687261319     1\n",
              "5749315133    16\n",
              "Name: cleaned_text, Length: 2174, dtype: int64"
            ]
          },
          "metadata": {},
          "execution_count": 38
        }
      ]
    },
    {
      "cell_type": "code",
      "source": [
        "df.groupby(['user_id'])['forwarded'].sum()"
      ],
      "metadata": {
        "colab": {
          "base_uri": "https://localhost:8080/"
        },
        "id": "1f4I48qXxx46",
        "outputId": "2f0dd74b-43c6-48f1-ed89-5677fe07cad8"
      },
      "execution_count": 174,
      "outputs": [
        {
          "output_type": "execute_result",
          "data": {
            "text/plain": [
              "user_id\n",
              "0             10\n",
              "65666          0\n",
              "226188         0\n",
              "291620         0\n",
              "355676         0\n",
              "              ..\n",
              "5598370554     0\n",
              "5642486416     0\n",
              "5648487984     0\n",
              "5687261319     0\n",
              "5749315133     0\n",
              "Name: forwarded, Length: 2174, dtype: object"
            ]
          },
          "metadata": {},
          "execution_count": 174
        }
      ]
    },
    {
      "cell_type": "code",
      "source": [
        "df.groupby(['user_id'])['reaction_count'].sum()"
      ],
      "metadata": {
        "colab": {
          "base_uri": "https://localhost:8080/"
        },
        "id": "JXuEYSMayiwN",
        "outputId": "4591975b-96f0-4734-e849-891d1e273f37"
      },
      "execution_count": 178,
      "outputs": [
        {
          "output_type": "execute_result",
          "data": {
            "text/plain": [
              "user_id\n",
              "0             20\n",
              "65666          0\n",
              "226188         0\n",
              "291620         1\n",
              "355676        10\n",
              "              ..\n",
              "5598370554     0\n",
              "5642486416     0\n",
              "5648487984     2\n",
              "5687261319     0\n",
              "5749315133     1\n",
              "Name: reaction_count, Length: 2174, dtype: object"
            ]
          },
          "metadata": {},
          "execution_count": 178
        }
      ]
    },
    {
      "cell_type": "code",
      "source": [
        "df.groupby(['user_id'])['mentions'].sum()"
      ],
      "metadata": {
        "colab": {
          "base_uri": "https://localhost:8080/"
        },
        "id": "ZTj-2i3zymLK",
        "outputId": "4032a3a5-2f24-444c-ddd2-64f83d68b525"
      },
      "execution_count": 179,
      "outputs": [
        {
          "output_type": "execute_result",
          "data": {
            "text/plain": [
              "user_id\n",
              "0             1\n",
              "65666         0\n",
              "226188        0\n",
              "291620        0\n",
              "355676        0\n",
              "             ..\n",
              "5598370554    0\n",
              "5642486416    0\n",
              "5648487984    0\n",
              "5687261319    0\n",
              "5749315133    0\n",
              "Name: mentions, Length: 2174, dtype: object"
            ]
          },
          "metadata": {},
          "execution_count": 179
        }
      ]
    },
    {
      "cell_type": "code",
      "source": [
        "df.groupby('user_id')['replies'].sum()"
      ],
      "metadata": {
        "colab": {
          "base_uri": "https://localhost:8080/"
        },
        "id": "Cp4-7goHz3NR",
        "outputId": "c42ebb0f-89d8-456c-a747-01819905580f"
      },
      "execution_count": 190,
      "outputs": [
        {
          "output_type": "execute_result",
          "data": {
            "text/plain": [
              "user_id\n",
              "0             15\n",
              "65666          0\n",
              "226188         1\n",
              "291620         0\n",
              "355676        30\n",
              "              ..\n",
              "5598370554     0\n",
              "5642486416     5\n",
              "5648487984     7\n",
              "5687261319     1\n",
              "5749315133     1\n",
              "Name: replies, Length: 2174, dtype: object"
            ]
          },
          "metadata": {},
          "execution_count": 190
        }
      ]
    },
    {
      "cell_type": "code",
      "source": [
        "total_texts_df=pd.DataFrame(\n",
        "    df.groupby(['user_id'])['cleaned_text'].nunique()\n",
        ").rename(\n",
        "    columns={'cleaned_text': 'total_texts'}\n",
        ").reset_index()"
      ],
      "metadata": {
        "id": "dGUA_2uEvdAd"
      },
      "execution_count": 183,
      "outputs": []
    },
    {
      "cell_type": "code",
      "source": [
        "forwarded_df=pd.DataFrame(\n",
        "    df.groupby('user_id')['forwarded'].sum()\n",
        ").rename(\n",
        "    columns={'forwarded': 'forwarded'}\n",
        ").reset_index()"
      ],
      "metadata": {
        "id": "OeR1FFDivc4C"
      },
      "execution_count": 189,
      "outputs": []
    },
    {
      "cell_type": "code",
      "source": [
        "mentions_df=pd.DataFrame(\n",
        "    df.groupby(['user_id'])['mentions'].sum()\n",
        ").rename(\n",
        "    columns={'mentions': 'mentions'}\n",
        ").reset_index()"
      ],
      "metadata": {
        "id": "jdOm3-Eavc0K"
      },
      "execution_count": 177,
      "outputs": []
    },
    {
      "cell_type": "code",
      "source": [
        "reaction_df=pd.DataFrame(\n",
        "    df.groupby(['user_id'])['reaction_count'].sum()\n",
        ").rename(\n",
        "    columns={'reaction_count': 'reaction_count'}\n",
        ").reset_index()"
      ],
      "metadata": {
        "id": "QdzS970XyNdy"
      },
      "execution_count": 181,
      "outputs": []
    },
    {
      "cell_type": "code",
      "source": [
        "active_weeks_df=pd.DataFrame(\n",
        "    df.groupby('user_id')['week'].nunique()\n",
        ").rename(\n",
        "    columns={'week': 'count_of_active_weeks'}\n",
        ").reset_index()"
      ],
      "metadata": {
        "id": "wIjwXc3TzKlW"
      },
      "execution_count": 186,
      "outputs": []
    },
    {
      "cell_type": "code",
      "source": [
        "replies_df=pd.DataFrame(\n",
        "    df.groupby('user_id')['replies'].sum()\n",
        ").rename(\n",
        "    columns={'replies': 'count_of_replies'}\n",
        ").reset_index()"
      ],
      "metadata": {
        "id": "iR4mKdg00LMj"
      },
      "execution_count": 220,
      "outputs": []
    },
    {
      "cell_type": "code",
      "source": [
        "mentions_df"
      ],
      "metadata": {
        "colab": {
          "base_uri": "https://localhost:8080/",
          "height": 424
        },
        "id": "WvRJi_Qdx39R",
        "outputId": "b6c259fb-24cf-4bc5-8605-a46047308353"
      },
      "execution_count": 176,
      "outputs": [
        {
          "output_type": "execute_result",
          "data": {
            "text/plain": [
              "         user_id mentions\n",
              "0              0        1\n",
              "1          65666        0\n",
              "2         226188        0\n",
              "3         291620        0\n",
              "4         355676        0\n",
              "...          ...      ...\n",
              "2169  5598370554        0\n",
              "2170  5642486416        0\n",
              "2171  5648487984        0\n",
              "2172  5687261319        0\n",
              "2173  5749315133        0\n",
              "\n",
              "[2174 rows x 2 columns]"
            ],
            "text/html": [
              "\n",
              "  <div id=\"df-c4c69386-9f75-4b7f-9fad-293b02b3252d\">\n",
              "    <div class=\"colab-df-container\">\n",
              "      <div>\n",
              "<style scoped>\n",
              "    .dataframe tbody tr th:only-of-type {\n",
              "        vertical-align: middle;\n",
              "    }\n",
              "\n",
              "    .dataframe tbody tr th {\n",
              "        vertical-align: top;\n",
              "    }\n",
              "\n",
              "    .dataframe thead th {\n",
              "        text-align: right;\n",
              "    }\n",
              "</style>\n",
              "<table border=\"1\" class=\"dataframe\">\n",
              "  <thead>\n",
              "    <tr style=\"text-align: right;\">\n",
              "      <th></th>\n",
              "      <th>user_id</th>\n",
              "      <th>mentions</th>\n",
              "    </tr>\n",
              "  </thead>\n",
              "  <tbody>\n",
              "    <tr>\n",
              "      <th>0</th>\n",
              "      <td>0</td>\n",
              "      <td>1</td>\n",
              "    </tr>\n",
              "    <tr>\n",
              "      <th>1</th>\n",
              "      <td>65666</td>\n",
              "      <td>0</td>\n",
              "    </tr>\n",
              "    <tr>\n",
              "      <th>2</th>\n",
              "      <td>226188</td>\n",
              "      <td>0</td>\n",
              "    </tr>\n",
              "    <tr>\n",
              "      <th>3</th>\n",
              "      <td>291620</td>\n",
              "      <td>0</td>\n",
              "    </tr>\n",
              "    <tr>\n",
              "      <th>4</th>\n",
              "      <td>355676</td>\n",
              "      <td>0</td>\n",
              "    </tr>\n",
              "    <tr>\n",
              "      <th>...</th>\n",
              "      <td>...</td>\n",
              "      <td>...</td>\n",
              "    </tr>\n",
              "    <tr>\n",
              "      <th>2169</th>\n",
              "      <td>5598370554</td>\n",
              "      <td>0</td>\n",
              "    </tr>\n",
              "    <tr>\n",
              "      <th>2170</th>\n",
              "      <td>5642486416</td>\n",
              "      <td>0</td>\n",
              "    </tr>\n",
              "    <tr>\n",
              "      <th>2171</th>\n",
              "      <td>5648487984</td>\n",
              "      <td>0</td>\n",
              "    </tr>\n",
              "    <tr>\n",
              "      <th>2172</th>\n",
              "      <td>5687261319</td>\n",
              "      <td>0</td>\n",
              "    </tr>\n",
              "    <tr>\n",
              "      <th>2173</th>\n",
              "      <td>5749315133</td>\n",
              "      <td>0</td>\n",
              "    </tr>\n",
              "  </tbody>\n",
              "</table>\n",
              "<p>2174 rows × 2 columns</p>\n",
              "</div>\n",
              "      <button class=\"colab-df-convert\" onclick=\"convertToInteractive('df-c4c69386-9f75-4b7f-9fad-293b02b3252d')\"\n",
              "              title=\"Convert this dataframe to an interactive table.\"\n",
              "              style=\"display:none;\">\n",
              "        \n",
              "  <svg xmlns=\"http://www.w3.org/2000/svg\" height=\"24px\"viewBox=\"0 0 24 24\"\n",
              "       width=\"24px\">\n",
              "    <path d=\"M0 0h24v24H0V0z\" fill=\"none\"/>\n",
              "    <path d=\"M18.56 5.44l.94 2.06.94-2.06 2.06-.94-2.06-.94-.94-2.06-.94 2.06-2.06.94zm-11 1L8.5 8.5l.94-2.06 2.06-.94-2.06-.94L8.5 2.5l-.94 2.06-2.06.94zm10 10l.94 2.06.94-2.06 2.06-.94-2.06-.94-.94-2.06-.94 2.06-2.06.94z\"/><path d=\"M17.41 7.96l-1.37-1.37c-.4-.4-.92-.59-1.43-.59-.52 0-1.04.2-1.43.59L10.3 9.45l-7.72 7.72c-.78.78-.78 2.05 0 2.83L4 21.41c.39.39.9.59 1.41.59.51 0 1.02-.2 1.41-.59l7.78-7.78 2.81-2.81c.8-.78.8-2.07 0-2.86zM5.41 20L4 18.59l7.72-7.72 1.47 1.35L5.41 20z\"/>\n",
              "  </svg>\n",
              "      </button>\n",
              "      \n",
              "  <style>\n",
              "    .colab-df-container {\n",
              "      display:flex;\n",
              "      flex-wrap:wrap;\n",
              "      gap: 12px;\n",
              "    }\n",
              "\n",
              "    .colab-df-convert {\n",
              "      background-color: #E8F0FE;\n",
              "      border: none;\n",
              "      border-radius: 50%;\n",
              "      cursor: pointer;\n",
              "      display: none;\n",
              "      fill: #1967D2;\n",
              "      height: 32px;\n",
              "      padding: 0 0 0 0;\n",
              "      width: 32px;\n",
              "    }\n",
              "\n",
              "    .colab-df-convert:hover {\n",
              "      background-color: #E2EBFA;\n",
              "      box-shadow: 0px 1px 2px rgba(60, 64, 67, 0.3), 0px 1px 3px 1px rgba(60, 64, 67, 0.15);\n",
              "      fill: #174EA6;\n",
              "    }\n",
              "\n",
              "    [theme=dark] .colab-df-convert {\n",
              "      background-color: #3B4455;\n",
              "      fill: #D2E3FC;\n",
              "    }\n",
              "\n",
              "    [theme=dark] .colab-df-convert:hover {\n",
              "      background-color: #434B5C;\n",
              "      box-shadow: 0px 1px 3px 1px rgba(0, 0, 0, 0.15);\n",
              "      filter: drop-shadow(0px 1px 2px rgba(0, 0, 0, 0.3));\n",
              "      fill: #FFFFFF;\n",
              "    }\n",
              "  </style>\n",
              "\n",
              "      <script>\n",
              "        const buttonEl =\n",
              "          document.querySelector('#df-c4c69386-9f75-4b7f-9fad-293b02b3252d button.colab-df-convert');\n",
              "        buttonEl.style.display =\n",
              "          google.colab.kernel.accessAllowed ? 'block' : 'none';\n",
              "\n",
              "        async function convertToInteractive(key) {\n",
              "          const element = document.querySelector('#df-c4c69386-9f75-4b7f-9fad-293b02b3252d');\n",
              "          const dataTable =\n",
              "            await google.colab.kernel.invokeFunction('convertToInteractive',\n",
              "                                                     [key], {});\n",
              "          if (!dataTable) return;\n",
              "\n",
              "          const docLinkHtml = 'Like what you see? Visit the ' +\n",
              "            '<a target=\"_blank\" href=https://colab.research.google.com/notebooks/data_table.ipynb>data table notebook</a>'\n",
              "            + ' to learn more about interactive tables.';\n",
              "          element.innerHTML = '';\n",
              "          dataTable['output_type'] = 'display_data';\n",
              "          await google.colab.output.renderOutput(dataTable, element);\n",
              "          const docLink = document.createElement('div');\n",
              "          docLink.innerHTML = docLinkHtml;\n",
              "          element.appendChild(docLink);\n",
              "        }\n",
              "      </script>\n",
              "    </div>\n",
              "  </div>\n",
              "  "
            ]
          },
          "metadata": {},
          "execution_count": 176
        }
      ]
    },
    {
      "cell_type": "code",
      "source": [
        "combined_df=pd.merge(reaction_df, mentions_df, on=\"user_id\")"
      ],
      "metadata": {
        "id": "zqbFAb_s7Cgn"
      },
      "execution_count": 182,
      "outputs": []
    },
    {
      "cell_type": "code",
      "source": [
        "com_df=pd.merge(total_texts_df,combined_df,on='user_id')"
      ],
      "metadata": {
        "id": "YTWPjf5DDsyM"
      },
      "execution_count": 184,
      "outputs": []
    },
    {
      "cell_type": "code",
      "source": [
        "com_df"
      ],
      "metadata": {
        "colab": {
          "base_uri": "https://localhost:8080/",
          "height": 424
        },
        "id": "JcOchNlGDuG8",
        "outputId": "d3ea8346-f689-4521-c9da-9b00f5231057"
      },
      "execution_count": 185,
      "outputs": [
        {
          "output_type": "execute_result",
          "data": {
            "text/plain": [
              "         user_id  total_texts reaction_count mentions\n",
              "0              0           33             20        1\n",
              "1          65666            1              0        0\n",
              "2         226188            1              0        0\n",
              "3         291620            1              1        0\n",
              "4         355676           45             10        0\n",
              "...          ...          ...            ...      ...\n",
              "2169  5598370554            1              0        0\n",
              "2170  5642486416            6              0        0\n",
              "2171  5648487984           32              2        0\n",
              "2172  5687261319            1              0        0\n",
              "2173  5749315133           16              1        0\n",
              "\n",
              "[2174 rows x 4 columns]"
            ],
            "text/html": [
              "\n",
              "  <div id=\"df-1e5afd1c-724e-41fd-8193-25372ef87e24\">\n",
              "    <div class=\"colab-df-container\">\n",
              "      <div>\n",
              "<style scoped>\n",
              "    .dataframe tbody tr th:only-of-type {\n",
              "        vertical-align: middle;\n",
              "    }\n",
              "\n",
              "    .dataframe tbody tr th {\n",
              "        vertical-align: top;\n",
              "    }\n",
              "\n",
              "    .dataframe thead th {\n",
              "        text-align: right;\n",
              "    }\n",
              "</style>\n",
              "<table border=\"1\" class=\"dataframe\">\n",
              "  <thead>\n",
              "    <tr style=\"text-align: right;\">\n",
              "      <th></th>\n",
              "      <th>user_id</th>\n",
              "      <th>total_texts</th>\n",
              "      <th>reaction_count</th>\n",
              "      <th>mentions</th>\n",
              "    </tr>\n",
              "  </thead>\n",
              "  <tbody>\n",
              "    <tr>\n",
              "      <th>0</th>\n",
              "      <td>0</td>\n",
              "      <td>33</td>\n",
              "      <td>20</td>\n",
              "      <td>1</td>\n",
              "    </tr>\n",
              "    <tr>\n",
              "      <th>1</th>\n",
              "      <td>65666</td>\n",
              "      <td>1</td>\n",
              "      <td>0</td>\n",
              "      <td>0</td>\n",
              "    </tr>\n",
              "    <tr>\n",
              "      <th>2</th>\n",
              "      <td>226188</td>\n",
              "      <td>1</td>\n",
              "      <td>0</td>\n",
              "      <td>0</td>\n",
              "    </tr>\n",
              "    <tr>\n",
              "      <th>3</th>\n",
              "      <td>291620</td>\n",
              "      <td>1</td>\n",
              "      <td>1</td>\n",
              "      <td>0</td>\n",
              "    </tr>\n",
              "    <tr>\n",
              "      <th>4</th>\n",
              "      <td>355676</td>\n",
              "      <td>45</td>\n",
              "      <td>10</td>\n",
              "      <td>0</td>\n",
              "    </tr>\n",
              "    <tr>\n",
              "      <th>...</th>\n",
              "      <td>...</td>\n",
              "      <td>...</td>\n",
              "      <td>...</td>\n",
              "      <td>...</td>\n",
              "    </tr>\n",
              "    <tr>\n",
              "      <th>2169</th>\n",
              "      <td>5598370554</td>\n",
              "      <td>1</td>\n",
              "      <td>0</td>\n",
              "      <td>0</td>\n",
              "    </tr>\n",
              "    <tr>\n",
              "      <th>2170</th>\n",
              "      <td>5642486416</td>\n",
              "      <td>6</td>\n",
              "      <td>0</td>\n",
              "      <td>0</td>\n",
              "    </tr>\n",
              "    <tr>\n",
              "      <th>2171</th>\n",
              "      <td>5648487984</td>\n",
              "      <td>32</td>\n",
              "      <td>2</td>\n",
              "      <td>0</td>\n",
              "    </tr>\n",
              "    <tr>\n",
              "      <th>2172</th>\n",
              "      <td>5687261319</td>\n",
              "      <td>1</td>\n",
              "      <td>0</td>\n",
              "      <td>0</td>\n",
              "    </tr>\n",
              "    <tr>\n",
              "      <th>2173</th>\n",
              "      <td>5749315133</td>\n",
              "      <td>16</td>\n",
              "      <td>1</td>\n",
              "      <td>0</td>\n",
              "    </tr>\n",
              "  </tbody>\n",
              "</table>\n",
              "<p>2174 rows × 4 columns</p>\n",
              "</div>\n",
              "      <button class=\"colab-df-convert\" onclick=\"convertToInteractive('df-1e5afd1c-724e-41fd-8193-25372ef87e24')\"\n",
              "              title=\"Convert this dataframe to an interactive table.\"\n",
              "              style=\"display:none;\">\n",
              "        \n",
              "  <svg xmlns=\"http://www.w3.org/2000/svg\" height=\"24px\"viewBox=\"0 0 24 24\"\n",
              "       width=\"24px\">\n",
              "    <path d=\"M0 0h24v24H0V0z\" fill=\"none\"/>\n",
              "    <path d=\"M18.56 5.44l.94 2.06.94-2.06 2.06-.94-2.06-.94-.94-2.06-.94 2.06-2.06.94zm-11 1L8.5 8.5l.94-2.06 2.06-.94-2.06-.94L8.5 2.5l-.94 2.06-2.06.94zm10 10l.94 2.06.94-2.06 2.06-.94-2.06-.94-.94-2.06-.94 2.06-2.06.94z\"/><path d=\"M17.41 7.96l-1.37-1.37c-.4-.4-.92-.59-1.43-.59-.52 0-1.04.2-1.43.59L10.3 9.45l-7.72 7.72c-.78.78-.78 2.05 0 2.83L4 21.41c.39.39.9.59 1.41.59.51 0 1.02-.2 1.41-.59l7.78-7.78 2.81-2.81c.8-.78.8-2.07 0-2.86zM5.41 20L4 18.59l7.72-7.72 1.47 1.35L5.41 20z\"/>\n",
              "  </svg>\n",
              "      </button>\n",
              "      \n",
              "  <style>\n",
              "    .colab-df-container {\n",
              "      display:flex;\n",
              "      flex-wrap:wrap;\n",
              "      gap: 12px;\n",
              "    }\n",
              "\n",
              "    .colab-df-convert {\n",
              "      background-color: #E8F0FE;\n",
              "      border: none;\n",
              "      border-radius: 50%;\n",
              "      cursor: pointer;\n",
              "      display: none;\n",
              "      fill: #1967D2;\n",
              "      height: 32px;\n",
              "      padding: 0 0 0 0;\n",
              "      width: 32px;\n",
              "    }\n",
              "\n",
              "    .colab-df-convert:hover {\n",
              "      background-color: #E2EBFA;\n",
              "      box-shadow: 0px 1px 2px rgba(60, 64, 67, 0.3), 0px 1px 3px 1px rgba(60, 64, 67, 0.15);\n",
              "      fill: #174EA6;\n",
              "    }\n",
              "\n",
              "    [theme=dark] .colab-df-convert {\n",
              "      background-color: #3B4455;\n",
              "      fill: #D2E3FC;\n",
              "    }\n",
              "\n",
              "    [theme=dark] .colab-df-convert:hover {\n",
              "      background-color: #434B5C;\n",
              "      box-shadow: 0px 1px 3px 1px rgba(0, 0, 0, 0.15);\n",
              "      filter: drop-shadow(0px 1px 2px rgba(0, 0, 0, 0.3));\n",
              "      fill: #FFFFFF;\n",
              "    }\n",
              "  </style>\n",
              "\n",
              "      <script>\n",
              "        const buttonEl =\n",
              "          document.querySelector('#df-1e5afd1c-724e-41fd-8193-25372ef87e24 button.colab-df-convert');\n",
              "        buttonEl.style.display =\n",
              "          google.colab.kernel.accessAllowed ? 'block' : 'none';\n",
              "\n",
              "        async function convertToInteractive(key) {\n",
              "          const element = document.querySelector('#df-1e5afd1c-724e-41fd-8193-25372ef87e24');\n",
              "          const dataTable =\n",
              "            await google.colab.kernel.invokeFunction('convertToInteractive',\n",
              "                                                     [key], {});\n",
              "          if (!dataTable) return;\n",
              "\n",
              "          const docLinkHtml = 'Like what you see? Visit the ' +\n",
              "            '<a target=\"_blank\" href=https://colab.research.google.com/notebooks/data_table.ipynb>data table notebook</a>'\n",
              "            + ' to learn more about interactive tables.';\n",
              "          element.innerHTML = '';\n",
              "          dataTable['output_type'] = 'display_data';\n",
              "          await google.colab.output.renderOutput(dataTable, element);\n",
              "          const docLink = document.createElement('div');\n",
              "          docLink.innerHTML = docLinkHtml;\n",
              "          element.appendChild(docLink);\n",
              "        }\n",
              "      </script>\n",
              "    </div>\n",
              "  </div>\n",
              "  "
            ]
          },
          "metadata": {},
          "execution_count": 185
        }
      ]
    },
    {
      "cell_type": "code",
      "source": [
        "comb_df=pd.merge(com_df,active_weeks_df,on='user_id')"
      ],
      "metadata": {
        "id": "Yx2pVlQbPElS"
      },
      "execution_count": 187,
      "outputs": []
    },
    {
      "cell_type": "code",
      "source": [
        "comb_df"
      ],
      "metadata": {
        "colab": {
          "base_uri": "https://localhost:8080/",
          "height": 424
        },
        "id": "o107YAJJPEgc",
        "outputId": "26b6ea67-3e21-4af9-91d6-5237ac173c64"
      },
      "execution_count": 188,
      "outputs": [
        {
          "output_type": "execute_result",
          "data": {
            "text/plain": [
              "         user_id  total_texts reaction_count mentions  count_of_active_weeks\n",
              "0              0           33             20        1                     12\n",
              "1          65666            1              0        0                      1\n",
              "2         226188            1              0        0                      1\n",
              "3         291620            1              1        0                      1\n",
              "4         355676           45             10        0                      6\n",
              "...          ...          ...            ...      ...                    ...\n",
              "2169  5598370554            1              0        0                      1\n",
              "2170  5642486416            6              0        0                      2\n",
              "2171  5648487984           32              2        0                      2\n",
              "2172  5687261319            1              0        0                      1\n",
              "2173  5749315133           16              1        0                      1\n",
              "\n",
              "[2174 rows x 5 columns]"
            ],
            "text/html": [
              "\n",
              "  <div id=\"df-f2f3ab27-d55f-462d-a89e-6047aa1047ce\">\n",
              "    <div class=\"colab-df-container\">\n",
              "      <div>\n",
              "<style scoped>\n",
              "    .dataframe tbody tr th:only-of-type {\n",
              "        vertical-align: middle;\n",
              "    }\n",
              "\n",
              "    .dataframe tbody tr th {\n",
              "        vertical-align: top;\n",
              "    }\n",
              "\n",
              "    .dataframe thead th {\n",
              "        text-align: right;\n",
              "    }\n",
              "</style>\n",
              "<table border=\"1\" class=\"dataframe\">\n",
              "  <thead>\n",
              "    <tr style=\"text-align: right;\">\n",
              "      <th></th>\n",
              "      <th>user_id</th>\n",
              "      <th>total_texts</th>\n",
              "      <th>reaction_count</th>\n",
              "      <th>mentions</th>\n",
              "      <th>count_of_active_weeks</th>\n",
              "    </tr>\n",
              "  </thead>\n",
              "  <tbody>\n",
              "    <tr>\n",
              "      <th>0</th>\n",
              "      <td>0</td>\n",
              "      <td>33</td>\n",
              "      <td>20</td>\n",
              "      <td>1</td>\n",
              "      <td>12</td>\n",
              "    </tr>\n",
              "    <tr>\n",
              "      <th>1</th>\n",
              "      <td>65666</td>\n",
              "      <td>1</td>\n",
              "      <td>0</td>\n",
              "      <td>0</td>\n",
              "      <td>1</td>\n",
              "    </tr>\n",
              "    <tr>\n",
              "      <th>2</th>\n",
              "      <td>226188</td>\n",
              "      <td>1</td>\n",
              "      <td>0</td>\n",
              "      <td>0</td>\n",
              "      <td>1</td>\n",
              "    </tr>\n",
              "    <tr>\n",
              "      <th>3</th>\n",
              "      <td>291620</td>\n",
              "      <td>1</td>\n",
              "      <td>1</td>\n",
              "      <td>0</td>\n",
              "      <td>1</td>\n",
              "    </tr>\n",
              "    <tr>\n",
              "      <th>4</th>\n",
              "      <td>355676</td>\n",
              "      <td>45</td>\n",
              "      <td>10</td>\n",
              "      <td>0</td>\n",
              "      <td>6</td>\n",
              "    </tr>\n",
              "    <tr>\n",
              "      <th>...</th>\n",
              "      <td>...</td>\n",
              "      <td>...</td>\n",
              "      <td>...</td>\n",
              "      <td>...</td>\n",
              "      <td>...</td>\n",
              "    </tr>\n",
              "    <tr>\n",
              "      <th>2169</th>\n",
              "      <td>5598370554</td>\n",
              "      <td>1</td>\n",
              "      <td>0</td>\n",
              "      <td>0</td>\n",
              "      <td>1</td>\n",
              "    </tr>\n",
              "    <tr>\n",
              "      <th>2170</th>\n",
              "      <td>5642486416</td>\n",
              "      <td>6</td>\n",
              "      <td>0</td>\n",
              "      <td>0</td>\n",
              "      <td>2</td>\n",
              "    </tr>\n",
              "    <tr>\n",
              "      <th>2171</th>\n",
              "      <td>5648487984</td>\n",
              "      <td>32</td>\n",
              "      <td>2</td>\n",
              "      <td>0</td>\n",
              "      <td>2</td>\n",
              "    </tr>\n",
              "    <tr>\n",
              "      <th>2172</th>\n",
              "      <td>5687261319</td>\n",
              "      <td>1</td>\n",
              "      <td>0</td>\n",
              "      <td>0</td>\n",
              "      <td>1</td>\n",
              "    </tr>\n",
              "    <tr>\n",
              "      <th>2173</th>\n",
              "      <td>5749315133</td>\n",
              "      <td>16</td>\n",
              "      <td>1</td>\n",
              "      <td>0</td>\n",
              "      <td>1</td>\n",
              "    </tr>\n",
              "  </tbody>\n",
              "</table>\n",
              "<p>2174 rows × 5 columns</p>\n",
              "</div>\n",
              "      <button class=\"colab-df-convert\" onclick=\"convertToInteractive('df-f2f3ab27-d55f-462d-a89e-6047aa1047ce')\"\n",
              "              title=\"Convert this dataframe to an interactive table.\"\n",
              "              style=\"display:none;\">\n",
              "        \n",
              "  <svg xmlns=\"http://www.w3.org/2000/svg\" height=\"24px\"viewBox=\"0 0 24 24\"\n",
              "       width=\"24px\">\n",
              "    <path d=\"M0 0h24v24H0V0z\" fill=\"none\"/>\n",
              "    <path d=\"M18.56 5.44l.94 2.06.94-2.06 2.06-.94-2.06-.94-.94-2.06-.94 2.06-2.06.94zm-11 1L8.5 8.5l.94-2.06 2.06-.94-2.06-.94L8.5 2.5l-.94 2.06-2.06.94zm10 10l.94 2.06.94-2.06 2.06-.94-2.06-.94-.94-2.06-.94 2.06-2.06.94z\"/><path d=\"M17.41 7.96l-1.37-1.37c-.4-.4-.92-.59-1.43-.59-.52 0-1.04.2-1.43.59L10.3 9.45l-7.72 7.72c-.78.78-.78 2.05 0 2.83L4 21.41c.39.39.9.59 1.41.59.51 0 1.02-.2 1.41-.59l7.78-7.78 2.81-2.81c.8-.78.8-2.07 0-2.86zM5.41 20L4 18.59l7.72-7.72 1.47 1.35L5.41 20z\"/>\n",
              "  </svg>\n",
              "      </button>\n",
              "      \n",
              "  <style>\n",
              "    .colab-df-container {\n",
              "      display:flex;\n",
              "      flex-wrap:wrap;\n",
              "      gap: 12px;\n",
              "    }\n",
              "\n",
              "    .colab-df-convert {\n",
              "      background-color: #E8F0FE;\n",
              "      border: none;\n",
              "      border-radius: 50%;\n",
              "      cursor: pointer;\n",
              "      display: none;\n",
              "      fill: #1967D2;\n",
              "      height: 32px;\n",
              "      padding: 0 0 0 0;\n",
              "      width: 32px;\n",
              "    }\n",
              "\n",
              "    .colab-df-convert:hover {\n",
              "      background-color: #E2EBFA;\n",
              "      box-shadow: 0px 1px 2px rgba(60, 64, 67, 0.3), 0px 1px 3px 1px rgba(60, 64, 67, 0.15);\n",
              "      fill: #174EA6;\n",
              "    }\n",
              "\n",
              "    [theme=dark] .colab-df-convert {\n",
              "      background-color: #3B4455;\n",
              "      fill: #D2E3FC;\n",
              "    }\n",
              "\n",
              "    [theme=dark] .colab-df-convert:hover {\n",
              "      background-color: #434B5C;\n",
              "      box-shadow: 0px 1px 3px 1px rgba(0, 0, 0, 0.15);\n",
              "      filter: drop-shadow(0px 1px 2px rgba(0, 0, 0, 0.3));\n",
              "      fill: #FFFFFF;\n",
              "    }\n",
              "  </style>\n",
              "\n",
              "      <script>\n",
              "        const buttonEl =\n",
              "          document.querySelector('#df-f2f3ab27-d55f-462d-a89e-6047aa1047ce button.colab-df-convert');\n",
              "        buttonEl.style.display =\n",
              "          google.colab.kernel.accessAllowed ? 'block' : 'none';\n",
              "\n",
              "        async function convertToInteractive(key) {\n",
              "          const element = document.querySelector('#df-f2f3ab27-d55f-462d-a89e-6047aa1047ce');\n",
              "          const dataTable =\n",
              "            await google.colab.kernel.invokeFunction('convertToInteractive',\n",
              "                                                     [key], {});\n",
              "          if (!dataTable) return;\n",
              "\n",
              "          const docLinkHtml = 'Like what you see? Visit the ' +\n",
              "            '<a target=\"_blank\" href=https://colab.research.google.com/notebooks/data_table.ipynb>data table notebook</a>'\n",
              "            + ' to learn more about interactive tables.';\n",
              "          element.innerHTML = '';\n",
              "          dataTable['output_type'] = 'display_data';\n",
              "          await google.colab.output.renderOutput(dataTable, element);\n",
              "          const docLink = document.createElement('div');\n",
              "          docLink.innerHTML = docLinkHtml;\n",
              "          element.appendChild(docLink);\n",
              "        }\n",
              "      </script>\n",
              "    </div>\n",
              "  </div>\n",
              "  "
            ]
          },
          "metadata": {},
          "execution_count": 188
        }
      ]
    },
    {
      "cell_type": "code",
      "source": [
        "comb_df['avg_texts_per_week']=''"
      ],
      "metadata": {
        "id": "gjHBZICE1cw9"
      },
      "execution_count": 193,
      "outputs": []
    },
    {
      "cell_type": "code",
      "source": [
        "for i in range(0,2174):\n",
        "  comb_df['avg_texts_per_week'][i]=(((comb_df['total_texts'][i])*(comb_df['count_of_active_weeks'][i]))/23)"
      ],
      "metadata": {
        "colab": {
          "base_uri": "https://localhost:8080/"
        },
        "id": "JWCdd_JZ1Wcd",
        "outputId": "bae552cc-41df-47e0-cc9a-6ea38a88471e"
      },
      "execution_count": 194,
      "outputs": [
        {
          "output_type": "stream",
          "name": "stderr",
          "text": [
            "/usr/local/lib/python3.7/dist-packages/ipykernel_launcher.py:2: SettingWithCopyWarning: \n",
            "A value is trying to be set on a copy of a slice from a DataFrame\n",
            "\n",
            "See the caveats in the documentation: https://pandas.pydata.org/pandas-docs/stable/user_guide/indexing.html#returning-a-view-versus-a-copy\n",
            "  \n"
          ]
        }
      ]
    },
    {
      "cell_type": "code",
      "source": [
        "semi_final_grouping_df=pd.merge(comb_df,replies_df,on='user_id')"
      ],
      "metadata": {
        "id": "TlZ9434T1WXY"
      },
      "execution_count": 221,
      "outputs": []
    },
    {
      "cell_type": "code",
      "source": [
        "final_grouping_df=pd.merge(semi_final_grouping_df,forwarded_df,on='user_id')"
      ],
      "metadata": {
        "id": "5Rq7gyRC18fi"
      },
      "execution_count": 222,
      "outputs": []
    },
    {
      "cell_type": "code",
      "source": [
        "final_grouping_df"
      ],
      "metadata": {
        "colab": {
          "base_uri": "https://localhost:8080/",
          "height": 424
        },
        "id": "jN5iC0A-2Gpw",
        "outputId": "03407192-479e-4c81-db69-5bf48ddf692e"
      },
      "execution_count": 223,
      "outputs": [
        {
          "output_type": "execute_result",
          "data": {
            "text/plain": [
              "         user_id  total_texts reaction_count mentions  count_of_active_weeks  \\\n",
              "0              0           33             20        1                     12   \n",
              "1          65666            1              0        0                      1   \n",
              "2         226188            1              0        0                      1   \n",
              "3         291620            1              1        0                      1   \n",
              "4         355676           45             10        0                      6   \n",
              "...          ...          ...            ...      ...                    ...   \n",
              "2169  5598370554            1              0        0                      1   \n",
              "2170  5642486416            6              0        0                      2   \n",
              "2171  5648487984           32              2        0                      2   \n",
              "2172  5687261319            1              0        0                      1   \n",
              "2173  5749315133           16              1        0                      1   \n",
              "\n",
              "     avg_texts_per_week count_of_replies forwarded  \n",
              "0             17.217391               15        10  \n",
              "1              0.043478                0         0  \n",
              "2              0.043478                1         0  \n",
              "3              0.043478                0         0  \n",
              "4              11.73913               30         0  \n",
              "...                 ...              ...       ...  \n",
              "2169           0.043478                0         0  \n",
              "2170           0.521739                5         0  \n",
              "2171           2.782609                7         0  \n",
              "2172           0.043478                1         0  \n",
              "2173           0.695652                1         0  \n",
              "\n",
              "[2174 rows x 8 columns]"
            ],
            "text/html": [
              "\n",
              "  <div id=\"df-3b2c8ea3-50e1-4cde-a8de-c7db34fdb7c0\">\n",
              "    <div class=\"colab-df-container\">\n",
              "      <div>\n",
              "<style scoped>\n",
              "    .dataframe tbody tr th:only-of-type {\n",
              "        vertical-align: middle;\n",
              "    }\n",
              "\n",
              "    .dataframe tbody tr th {\n",
              "        vertical-align: top;\n",
              "    }\n",
              "\n",
              "    .dataframe thead th {\n",
              "        text-align: right;\n",
              "    }\n",
              "</style>\n",
              "<table border=\"1\" class=\"dataframe\">\n",
              "  <thead>\n",
              "    <tr style=\"text-align: right;\">\n",
              "      <th></th>\n",
              "      <th>user_id</th>\n",
              "      <th>total_texts</th>\n",
              "      <th>reaction_count</th>\n",
              "      <th>mentions</th>\n",
              "      <th>count_of_active_weeks</th>\n",
              "      <th>avg_texts_per_week</th>\n",
              "      <th>count_of_replies</th>\n",
              "      <th>forwarded</th>\n",
              "    </tr>\n",
              "  </thead>\n",
              "  <tbody>\n",
              "    <tr>\n",
              "      <th>0</th>\n",
              "      <td>0</td>\n",
              "      <td>33</td>\n",
              "      <td>20</td>\n",
              "      <td>1</td>\n",
              "      <td>12</td>\n",
              "      <td>17.217391</td>\n",
              "      <td>15</td>\n",
              "      <td>10</td>\n",
              "    </tr>\n",
              "    <tr>\n",
              "      <th>1</th>\n",
              "      <td>65666</td>\n",
              "      <td>1</td>\n",
              "      <td>0</td>\n",
              "      <td>0</td>\n",
              "      <td>1</td>\n",
              "      <td>0.043478</td>\n",
              "      <td>0</td>\n",
              "      <td>0</td>\n",
              "    </tr>\n",
              "    <tr>\n",
              "      <th>2</th>\n",
              "      <td>226188</td>\n",
              "      <td>1</td>\n",
              "      <td>0</td>\n",
              "      <td>0</td>\n",
              "      <td>1</td>\n",
              "      <td>0.043478</td>\n",
              "      <td>1</td>\n",
              "      <td>0</td>\n",
              "    </tr>\n",
              "    <tr>\n",
              "      <th>3</th>\n",
              "      <td>291620</td>\n",
              "      <td>1</td>\n",
              "      <td>1</td>\n",
              "      <td>0</td>\n",
              "      <td>1</td>\n",
              "      <td>0.043478</td>\n",
              "      <td>0</td>\n",
              "      <td>0</td>\n",
              "    </tr>\n",
              "    <tr>\n",
              "      <th>4</th>\n",
              "      <td>355676</td>\n",
              "      <td>45</td>\n",
              "      <td>10</td>\n",
              "      <td>0</td>\n",
              "      <td>6</td>\n",
              "      <td>11.73913</td>\n",
              "      <td>30</td>\n",
              "      <td>0</td>\n",
              "    </tr>\n",
              "    <tr>\n",
              "      <th>...</th>\n",
              "      <td>...</td>\n",
              "      <td>...</td>\n",
              "      <td>...</td>\n",
              "      <td>...</td>\n",
              "      <td>...</td>\n",
              "      <td>...</td>\n",
              "      <td>...</td>\n",
              "      <td>...</td>\n",
              "    </tr>\n",
              "    <tr>\n",
              "      <th>2169</th>\n",
              "      <td>5598370554</td>\n",
              "      <td>1</td>\n",
              "      <td>0</td>\n",
              "      <td>0</td>\n",
              "      <td>1</td>\n",
              "      <td>0.043478</td>\n",
              "      <td>0</td>\n",
              "      <td>0</td>\n",
              "    </tr>\n",
              "    <tr>\n",
              "      <th>2170</th>\n",
              "      <td>5642486416</td>\n",
              "      <td>6</td>\n",
              "      <td>0</td>\n",
              "      <td>0</td>\n",
              "      <td>2</td>\n",
              "      <td>0.521739</td>\n",
              "      <td>5</td>\n",
              "      <td>0</td>\n",
              "    </tr>\n",
              "    <tr>\n",
              "      <th>2171</th>\n",
              "      <td>5648487984</td>\n",
              "      <td>32</td>\n",
              "      <td>2</td>\n",
              "      <td>0</td>\n",
              "      <td>2</td>\n",
              "      <td>2.782609</td>\n",
              "      <td>7</td>\n",
              "      <td>0</td>\n",
              "    </tr>\n",
              "    <tr>\n",
              "      <th>2172</th>\n",
              "      <td>5687261319</td>\n",
              "      <td>1</td>\n",
              "      <td>0</td>\n",
              "      <td>0</td>\n",
              "      <td>1</td>\n",
              "      <td>0.043478</td>\n",
              "      <td>1</td>\n",
              "      <td>0</td>\n",
              "    </tr>\n",
              "    <tr>\n",
              "      <th>2173</th>\n",
              "      <td>5749315133</td>\n",
              "      <td>16</td>\n",
              "      <td>1</td>\n",
              "      <td>0</td>\n",
              "      <td>1</td>\n",
              "      <td>0.695652</td>\n",
              "      <td>1</td>\n",
              "      <td>0</td>\n",
              "    </tr>\n",
              "  </tbody>\n",
              "</table>\n",
              "<p>2174 rows × 8 columns</p>\n",
              "</div>\n",
              "      <button class=\"colab-df-convert\" onclick=\"convertToInteractive('df-3b2c8ea3-50e1-4cde-a8de-c7db34fdb7c0')\"\n",
              "              title=\"Convert this dataframe to an interactive table.\"\n",
              "              style=\"display:none;\">\n",
              "        \n",
              "  <svg xmlns=\"http://www.w3.org/2000/svg\" height=\"24px\"viewBox=\"0 0 24 24\"\n",
              "       width=\"24px\">\n",
              "    <path d=\"M0 0h24v24H0V0z\" fill=\"none\"/>\n",
              "    <path d=\"M18.56 5.44l.94 2.06.94-2.06 2.06-.94-2.06-.94-.94-2.06-.94 2.06-2.06.94zm-11 1L8.5 8.5l.94-2.06 2.06-.94-2.06-.94L8.5 2.5l-.94 2.06-2.06.94zm10 10l.94 2.06.94-2.06 2.06-.94-2.06-.94-.94-2.06-.94 2.06-2.06.94z\"/><path d=\"M17.41 7.96l-1.37-1.37c-.4-.4-.92-.59-1.43-.59-.52 0-1.04.2-1.43.59L10.3 9.45l-7.72 7.72c-.78.78-.78 2.05 0 2.83L4 21.41c.39.39.9.59 1.41.59.51 0 1.02-.2 1.41-.59l7.78-7.78 2.81-2.81c.8-.78.8-2.07 0-2.86zM5.41 20L4 18.59l7.72-7.72 1.47 1.35L5.41 20z\"/>\n",
              "  </svg>\n",
              "      </button>\n",
              "      \n",
              "  <style>\n",
              "    .colab-df-container {\n",
              "      display:flex;\n",
              "      flex-wrap:wrap;\n",
              "      gap: 12px;\n",
              "    }\n",
              "\n",
              "    .colab-df-convert {\n",
              "      background-color: #E8F0FE;\n",
              "      border: none;\n",
              "      border-radius: 50%;\n",
              "      cursor: pointer;\n",
              "      display: none;\n",
              "      fill: #1967D2;\n",
              "      height: 32px;\n",
              "      padding: 0 0 0 0;\n",
              "      width: 32px;\n",
              "    }\n",
              "\n",
              "    .colab-df-convert:hover {\n",
              "      background-color: #E2EBFA;\n",
              "      box-shadow: 0px 1px 2px rgba(60, 64, 67, 0.3), 0px 1px 3px 1px rgba(60, 64, 67, 0.15);\n",
              "      fill: #174EA6;\n",
              "    }\n",
              "\n",
              "    [theme=dark] .colab-df-convert {\n",
              "      background-color: #3B4455;\n",
              "      fill: #D2E3FC;\n",
              "    }\n",
              "\n",
              "    [theme=dark] .colab-df-convert:hover {\n",
              "      background-color: #434B5C;\n",
              "      box-shadow: 0px 1px 3px 1px rgba(0, 0, 0, 0.15);\n",
              "      filter: drop-shadow(0px 1px 2px rgba(0, 0, 0, 0.3));\n",
              "      fill: #FFFFFF;\n",
              "    }\n",
              "  </style>\n",
              "\n",
              "      <script>\n",
              "        const buttonEl =\n",
              "          document.querySelector('#df-3b2c8ea3-50e1-4cde-a8de-c7db34fdb7c0 button.colab-df-convert');\n",
              "        buttonEl.style.display =\n",
              "          google.colab.kernel.accessAllowed ? 'block' : 'none';\n",
              "\n",
              "        async function convertToInteractive(key) {\n",
              "          const element = document.querySelector('#df-3b2c8ea3-50e1-4cde-a8de-c7db34fdb7c0');\n",
              "          const dataTable =\n",
              "            await google.colab.kernel.invokeFunction('convertToInteractive',\n",
              "                                                     [key], {});\n",
              "          if (!dataTable) return;\n",
              "\n",
              "          const docLinkHtml = 'Like what you see? Visit the ' +\n",
              "            '<a target=\"_blank\" href=https://colab.research.google.com/notebooks/data_table.ipynb>data table notebook</a>'\n",
              "            + ' to learn more about interactive tables.';\n",
              "          element.innerHTML = '';\n",
              "          dataTable['output_type'] = 'display_data';\n",
              "          await google.colab.output.renderOutput(dataTable, element);\n",
              "          const docLink = document.createElement('div');\n",
              "          docLink.innerHTML = docLinkHtml;\n",
              "          element.appendChild(docLink);\n",
              "        }\n",
              "      </script>\n",
              "    </div>\n",
              "  </div>\n",
              "  "
            ]
          },
          "metadata": {},
          "execution_count": 223
        }
      ]
    },
    {
      "cell_type": "code",
      "source": [
        "os.chdir('/content/drive/MyDrive/SuperMind')"
      ],
      "metadata": {
        "id": "hp0vBQAl3qvu"
      },
      "execution_count": 224,
      "outputs": []
    },
    {
      "cell_type": "code",
      "source": [
        "final_grouping_df.to_csv('final_grouping_df.csv',index=False)"
      ],
      "metadata": {
        "id": "OVI5G8tS3i0Z"
      },
      "execution_count": 225,
      "outputs": []
    },
    {
      "cell_type": "markdown",
      "source": [
        "## Using Normalization"
      ],
      "metadata": {
        "id": "H6Lcs4iwZba7"
      }
    },
    {
      "cell_type": "code",
      "source": [
        "draft_5=pd.read_csv('/content/drive/MyDrive/SuperMind/final_grouping_df.csv')"
      ],
      "metadata": {
        "id": "2m75467zZSTW"
      },
      "execution_count": 270,
      "outputs": []
    },
    {
      "cell_type": "code",
      "source": [
        "draft_5.drop([0],inplace=True)"
      ],
      "metadata": {
        "id": "iMghlQ9AZiaY"
      },
      "execution_count": 271,
      "outputs": []
    },
    {
      "cell_type": "code",
      "source": [
        "draft_5=draft_5.reset_index()"
      ],
      "metadata": {
        "id": "8HtEoJkhZiXi"
      },
      "execution_count": 272,
      "outputs": []
    },
    {
      "cell_type": "code",
      "source": [
        "draft_5.drop('index',axis=1,inplace=True)"
      ],
      "metadata": {
        "id": "vw5Ro0aX6IhV"
      },
      "execution_count": 273,
      "outputs": []
    },
    {
      "cell_type": "code",
      "source": [
        "draft_5.head()"
      ],
      "metadata": {
        "colab": {
          "base_uri": "https://localhost:8080/",
          "height": 206
        },
        "id": "USLYBil4ZiUq",
        "outputId": "eecb2b89-d61e-473a-a1d0-9302565d81dd"
      },
      "execution_count": 274,
      "outputs": [
        {
          "output_type": "execute_result",
          "data": {
            "text/plain": [
              "   user_id  total_texts  reaction_count  mentions  count_of_active_weeks  \\\n",
              "0    65666            1               0         0                      1   \n",
              "1   226188            1               0         0                      1   \n",
              "2   291620            1               1         0                      1   \n",
              "3   355676           45              10         0                      6   \n",
              "4   376593           11              27         0                      4   \n",
              "\n",
              "   avg_texts_per_week  count_of_replies  forwarded  \n",
              "0            0.043478                 0          0  \n",
              "1            0.043478                 1          0  \n",
              "2            0.043478                 0          0  \n",
              "3           11.739130                30          0  \n",
              "4            1.913043                 2          0  "
            ],
            "text/html": [
              "\n",
              "  <div id=\"df-0f9d5c42-e85a-4103-9318-e5784115f266\">\n",
              "    <div class=\"colab-df-container\">\n",
              "      <div>\n",
              "<style scoped>\n",
              "    .dataframe tbody tr th:only-of-type {\n",
              "        vertical-align: middle;\n",
              "    }\n",
              "\n",
              "    .dataframe tbody tr th {\n",
              "        vertical-align: top;\n",
              "    }\n",
              "\n",
              "    .dataframe thead th {\n",
              "        text-align: right;\n",
              "    }\n",
              "</style>\n",
              "<table border=\"1\" class=\"dataframe\">\n",
              "  <thead>\n",
              "    <tr style=\"text-align: right;\">\n",
              "      <th></th>\n",
              "      <th>user_id</th>\n",
              "      <th>total_texts</th>\n",
              "      <th>reaction_count</th>\n",
              "      <th>mentions</th>\n",
              "      <th>count_of_active_weeks</th>\n",
              "      <th>avg_texts_per_week</th>\n",
              "      <th>count_of_replies</th>\n",
              "      <th>forwarded</th>\n",
              "    </tr>\n",
              "  </thead>\n",
              "  <tbody>\n",
              "    <tr>\n",
              "      <th>0</th>\n",
              "      <td>65666</td>\n",
              "      <td>1</td>\n",
              "      <td>0</td>\n",
              "      <td>0</td>\n",
              "      <td>1</td>\n",
              "      <td>0.043478</td>\n",
              "      <td>0</td>\n",
              "      <td>0</td>\n",
              "    </tr>\n",
              "    <tr>\n",
              "      <th>1</th>\n",
              "      <td>226188</td>\n",
              "      <td>1</td>\n",
              "      <td>0</td>\n",
              "      <td>0</td>\n",
              "      <td>1</td>\n",
              "      <td>0.043478</td>\n",
              "      <td>1</td>\n",
              "      <td>0</td>\n",
              "    </tr>\n",
              "    <tr>\n",
              "      <th>2</th>\n",
              "      <td>291620</td>\n",
              "      <td>1</td>\n",
              "      <td>1</td>\n",
              "      <td>0</td>\n",
              "      <td>1</td>\n",
              "      <td>0.043478</td>\n",
              "      <td>0</td>\n",
              "      <td>0</td>\n",
              "    </tr>\n",
              "    <tr>\n",
              "      <th>3</th>\n",
              "      <td>355676</td>\n",
              "      <td>45</td>\n",
              "      <td>10</td>\n",
              "      <td>0</td>\n",
              "      <td>6</td>\n",
              "      <td>11.739130</td>\n",
              "      <td>30</td>\n",
              "      <td>0</td>\n",
              "    </tr>\n",
              "    <tr>\n",
              "      <th>4</th>\n",
              "      <td>376593</td>\n",
              "      <td>11</td>\n",
              "      <td>27</td>\n",
              "      <td>0</td>\n",
              "      <td>4</td>\n",
              "      <td>1.913043</td>\n",
              "      <td>2</td>\n",
              "      <td>0</td>\n",
              "    </tr>\n",
              "  </tbody>\n",
              "</table>\n",
              "</div>\n",
              "      <button class=\"colab-df-convert\" onclick=\"convertToInteractive('df-0f9d5c42-e85a-4103-9318-e5784115f266')\"\n",
              "              title=\"Convert this dataframe to an interactive table.\"\n",
              "              style=\"display:none;\">\n",
              "        \n",
              "  <svg xmlns=\"http://www.w3.org/2000/svg\" height=\"24px\"viewBox=\"0 0 24 24\"\n",
              "       width=\"24px\">\n",
              "    <path d=\"M0 0h24v24H0V0z\" fill=\"none\"/>\n",
              "    <path d=\"M18.56 5.44l.94 2.06.94-2.06 2.06-.94-2.06-.94-.94-2.06-.94 2.06-2.06.94zm-11 1L8.5 8.5l.94-2.06 2.06-.94-2.06-.94L8.5 2.5l-.94 2.06-2.06.94zm10 10l.94 2.06.94-2.06 2.06-.94-2.06-.94-.94-2.06-.94 2.06-2.06.94z\"/><path d=\"M17.41 7.96l-1.37-1.37c-.4-.4-.92-.59-1.43-.59-.52 0-1.04.2-1.43.59L10.3 9.45l-7.72 7.72c-.78.78-.78 2.05 0 2.83L4 21.41c.39.39.9.59 1.41.59.51 0 1.02-.2 1.41-.59l7.78-7.78 2.81-2.81c.8-.78.8-2.07 0-2.86zM5.41 20L4 18.59l7.72-7.72 1.47 1.35L5.41 20z\"/>\n",
              "  </svg>\n",
              "      </button>\n",
              "      \n",
              "  <style>\n",
              "    .colab-df-container {\n",
              "      display:flex;\n",
              "      flex-wrap:wrap;\n",
              "      gap: 12px;\n",
              "    }\n",
              "\n",
              "    .colab-df-convert {\n",
              "      background-color: #E8F0FE;\n",
              "      border: none;\n",
              "      border-radius: 50%;\n",
              "      cursor: pointer;\n",
              "      display: none;\n",
              "      fill: #1967D2;\n",
              "      height: 32px;\n",
              "      padding: 0 0 0 0;\n",
              "      width: 32px;\n",
              "    }\n",
              "\n",
              "    .colab-df-convert:hover {\n",
              "      background-color: #E2EBFA;\n",
              "      box-shadow: 0px 1px 2px rgba(60, 64, 67, 0.3), 0px 1px 3px 1px rgba(60, 64, 67, 0.15);\n",
              "      fill: #174EA6;\n",
              "    }\n",
              "\n",
              "    [theme=dark] .colab-df-convert {\n",
              "      background-color: #3B4455;\n",
              "      fill: #D2E3FC;\n",
              "    }\n",
              "\n",
              "    [theme=dark] .colab-df-convert:hover {\n",
              "      background-color: #434B5C;\n",
              "      box-shadow: 0px 1px 3px 1px rgba(0, 0, 0, 0.15);\n",
              "      filter: drop-shadow(0px 1px 2px rgba(0, 0, 0, 0.3));\n",
              "      fill: #FFFFFF;\n",
              "    }\n",
              "  </style>\n",
              "\n",
              "      <script>\n",
              "        const buttonEl =\n",
              "          document.querySelector('#df-0f9d5c42-e85a-4103-9318-e5784115f266 button.colab-df-convert');\n",
              "        buttonEl.style.display =\n",
              "          google.colab.kernel.accessAllowed ? 'block' : 'none';\n",
              "\n",
              "        async function convertToInteractive(key) {\n",
              "          const element = document.querySelector('#df-0f9d5c42-e85a-4103-9318-e5784115f266');\n",
              "          const dataTable =\n",
              "            await google.colab.kernel.invokeFunction('convertToInteractive',\n",
              "                                                     [key], {});\n",
              "          if (!dataTable) return;\n",
              "\n",
              "          const docLinkHtml = 'Like what you see? Visit the ' +\n",
              "            '<a target=\"_blank\" href=https://colab.research.google.com/notebooks/data_table.ipynb>data table notebook</a>'\n",
              "            + ' to learn more about interactive tables.';\n",
              "          element.innerHTML = '';\n",
              "          dataTable['output_type'] = 'display_data';\n",
              "          await google.colab.output.renderOutput(dataTable, element);\n",
              "          const docLink = document.createElement('div');\n",
              "          docLink.innerHTML = docLinkHtml;\n",
              "          element.appendChild(docLink);\n",
              "        }\n",
              "      </script>\n",
              "    </div>\n",
              "  </div>\n",
              "  "
            ]
          },
          "metadata": {},
          "execution_count": 274
        }
      ]
    },
    {
      "cell_type": "code",
      "source": [
        "draft_5['total_texts'] = (draft_5['total_texts'] - draft_5['total_texts'].min()) / (draft_5['total_texts'].max() - draft_5['total_texts'].min())    "
      ],
      "metadata": {
        "id": "7l-RSw7VaBT9"
      },
      "execution_count": 275,
      "outputs": []
    },
    {
      "cell_type": "code",
      "source": [
        "draft_5['reaction_count'] = (draft_5['reaction_count'] - draft_5['reaction_count'].min()) / (draft_5['reaction_count'].max() - draft_5['reaction_count'].min())    "
      ],
      "metadata": {
        "id": "UfFCWPugb20u"
      },
      "execution_count": 276,
      "outputs": []
    },
    {
      "cell_type": "code",
      "source": [
        "draft_5['mentions'] = (draft_5['mentions'] - draft_5['mentions'].min()) / (draft_5['mentions'].max() - draft_5['mentions'].min())    "
      ],
      "metadata": {
        "id": "XNAxzy89b2x8"
      },
      "execution_count": 277,
      "outputs": []
    },
    {
      "cell_type": "code",
      "source": [
        "draft_5['avg_texts_per_week'] = (draft_5['avg_texts_per_week'] - draft_5['avg_texts_per_week'].min()) / (draft_5['avg_texts_per_week'].max() - draft_5['avg_texts_per_week'].min())    "
      ],
      "metadata": {
        "id": "FwxQiSKCb2u8"
      },
      "execution_count": 278,
      "outputs": []
    },
    {
      "cell_type": "code",
      "source": [
        "draft_5['count_of_replies'] = (draft_5['count_of_replies'] - draft_5['count_of_replies'].min()) / (draft_5['count_of_replies'].max() - draft_5['count_of_replies'].min())    "
      ],
      "metadata": {
        "id": "E8rgQFoIb2pY"
      },
      "execution_count": 282,
      "outputs": []
    },
    {
      "cell_type": "code",
      "source": [
        "draft_5['forwarded'] = (draft_5['forwarded'] - draft_5['forwarded'].min()) / (draft_5['forwarded'].max() - draft_5['forwarded'].min())    "
      ],
      "metadata": {
        "id": "lKwXJlAgb2md"
      },
      "execution_count": 280,
      "outputs": []
    },
    {
      "cell_type": "code",
      "source": [
        "draft_5"
      ],
      "metadata": {
        "colab": {
          "base_uri": "https://localhost:8080/",
          "height": 424
        },
        "id": "g-4MTuZfZ9BK",
        "outputId": "a4f22d4a-b00e-4fc3-b7cd-3066d6afe3d0"
      },
      "execution_count": 283,
      "outputs": [
        {
          "output_type": "execute_result",
          "data": {
            "text/plain": [
              "         user_id  total_texts  reaction_count  mentions  \\\n",
              "0          65666     0.000382        0.000000       0.0   \n",
              "1         226188     0.000382        0.000000       0.0   \n",
              "2         291620     0.000382        0.000465       0.0   \n",
              "3         355676     0.017176        0.004647       0.0   \n",
              "4         376593     0.004198        0.012546       0.0   \n",
              "...          ...          ...             ...       ...   \n",
              "2168  5598370554     0.000382        0.000000       0.0   \n",
              "2169  5642486416     0.002290        0.000000       0.0   \n",
              "2170  5648487984     0.012214        0.000929       0.0   \n",
              "2171  5687261319     0.000382        0.000000       0.0   \n",
              "2172  5749315133     0.006107        0.000465       0.0   \n",
              "\n",
              "      count_of_active_weeks  avg_texts_per_week  count_of_replies  forwarded  \\\n",
              "0                         1            0.000017          0.000000        0.0   \n",
              "1                         1            0.000017          0.000942        0.0   \n",
              "2                         1            0.000017          0.000000        0.0   \n",
              "3                         6            0.004481          0.028249        0.0   \n",
              "4                         4            0.000730          0.001883        0.0   \n",
              "...                     ...                 ...               ...        ...   \n",
              "2168                      1            0.000017          0.000000        0.0   \n",
              "2169                      2            0.000199          0.004708        0.0   \n",
              "2170                      2            0.001062          0.006591        0.0   \n",
              "2171                      1            0.000017          0.000942        0.0   \n",
              "2172                      1            0.000266          0.000942        0.0   \n",
              "\n",
              "       replies  \n",
              "0     0.000000  \n",
              "1     0.000942  \n",
              "2     0.000000  \n",
              "3     0.028249  \n",
              "4     0.001883  \n",
              "...        ...  \n",
              "2168  0.000000  \n",
              "2169  0.004708  \n",
              "2170  0.006591  \n",
              "2171  0.000942  \n",
              "2172  0.000942  \n",
              "\n",
              "[2173 rows x 9 columns]"
            ],
            "text/html": [
              "\n",
              "  <div id=\"df-2f26dd28-dd3a-4147-bef8-bf0e905a6693\">\n",
              "    <div class=\"colab-df-container\">\n",
              "      <div>\n",
              "<style scoped>\n",
              "    .dataframe tbody tr th:only-of-type {\n",
              "        vertical-align: middle;\n",
              "    }\n",
              "\n",
              "    .dataframe tbody tr th {\n",
              "        vertical-align: top;\n",
              "    }\n",
              "\n",
              "    .dataframe thead th {\n",
              "        text-align: right;\n",
              "    }\n",
              "</style>\n",
              "<table border=\"1\" class=\"dataframe\">\n",
              "  <thead>\n",
              "    <tr style=\"text-align: right;\">\n",
              "      <th></th>\n",
              "      <th>user_id</th>\n",
              "      <th>total_texts</th>\n",
              "      <th>reaction_count</th>\n",
              "      <th>mentions</th>\n",
              "      <th>count_of_active_weeks</th>\n",
              "      <th>avg_texts_per_week</th>\n",
              "      <th>count_of_replies</th>\n",
              "      <th>forwarded</th>\n",
              "      <th>replies</th>\n",
              "    </tr>\n",
              "  </thead>\n",
              "  <tbody>\n",
              "    <tr>\n",
              "      <th>0</th>\n",
              "      <td>65666</td>\n",
              "      <td>0.000382</td>\n",
              "      <td>0.000000</td>\n",
              "      <td>0.0</td>\n",
              "      <td>1</td>\n",
              "      <td>0.000017</td>\n",
              "      <td>0.000000</td>\n",
              "      <td>0.0</td>\n",
              "      <td>0.000000</td>\n",
              "    </tr>\n",
              "    <tr>\n",
              "      <th>1</th>\n",
              "      <td>226188</td>\n",
              "      <td>0.000382</td>\n",
              "      <td>0.000000</td>\n",
              "      <td>0.0</td>\n",
              "      <td>1</td>\n",
              "      <td>0.000017</td>\n",
              "      <td>0.000942</td>\n",
              "      <td>0.0</td>\n",
              "      <td>0.000942</td>\n",
              "    </tr>\n",
              "    <tr>\n",
              "      <th>2</th>\n",
              "      <td>291620</td>\n",
              "      <td>0.000382</td>\n",
              "      <td>0.000465</td>\n",
              "      <td>0.0</td>\n",
              "      <td>1</td>\n",
              "      <td>0.000017</td>\n",
              "      <td>0.000000</td>\n",
              "      <td>0.0</td>\n",
              "      <td>0.000000</td>\n",
              "    </tr>\n",
              "    <tr>\n",
              "      <th>3</th>\n",
              "      <td>355676</td>\n",
              "      <td>0.017176</td>\n",
              "      <td>0.004647</td>\n",
              "      <td>0.0</td>\n",
              "      <td>6</td>\n",
              "      <td>0.004481</td>\n",
              "      <td>0.028249</td>\n",
              "      <td>0.0</td>\n",
              "      <td>0.028249</td>\n",
              "    </tr>\n",
              "    <tr>\n",
              "      <th>4</th>\n",
              "      <td>376593</td>\n",
              "      <td>0.004198</td>\n",
              "      <td>0.012546</td>\n",
              "      <td>0.0</td>\n",
              "      <td>4</td>\n",
              "      <td>0.000730</td>\n",
              "      <td>0.001883</td>\n",
              "      <td>0.0</td>\n",
              "      <td>0.001883</td>\n",
              "    </tr>\n",
              "    <tr>\n",
              "      <th>...</th>\n",
              "      <td>...</td>\n",
              "      <td>...</td>\n",
              "      <td>...</td>\n",
              "      <td>...</td>\n",
              "      <td>...</td>\n",
              "      <td>...</td>\n",
              "      <td>...</td>\n",
              "      <td>...</td>\n",
              "      <td>...</td>\n",
              "    </tr>\n",
              "    <tr>\n",
              "      <th>2168</th>\n",
              "      <td>5598370554</td>\n",
              "      <td>0.000382</td>\n",
              "      <td>0.000000</td>\n",
              "      <td>0.0</td>\n",
              "      <td>1</td>\n",
              "      <td>0.000017</td>\n",
              "      <td>0.000000</td>\n",
              "      <td>0.0</td>\n",
              "      <td>0.000000</td>\n",
              "    </tr>\n",
              "    <tr>\n",
              "      <th>2169</th>\n",
              "      <td>5642486416</td>\n",
              "      <td>0.002290</td>\n",
              "      <td>0.000000</td>\n",
              "      <td>0.0</td>\n",
              "      <td>2</td>\n",
              "      <td>0.000199</td>\n",
              "      <td>0.004708</td>\n",
              "      <td>0.0</td>\n",
              "      <td>0.004708</td>\n",
              "    </tr>\n",
              "    <tr>\n",
              "      <th>2170</th>\n",
              "      <td>5648487984</td>\n",
              "      <td>0.012214</td>\n",
              "      <td>0.000929</td>\n",
              "      <td>0.0</td>\n",
              "      <td>2</td>\n",
              "      <td>0.001062</td>\n",
              "      <td>0.006591</td>\n",
              "      <td>0.0</td>\n",
              "      <td>0.006591</td>\n",
              "    </tr>\n",
              "    <tr>\n",
              "      <th>2171</th>\n",
              "      <td>5687261319</td>\n",
              "      <td>0.000382</td>\n",
              "      <td>0.000000</td>\n",
              "      <td>0.0</td>\n",
              "      <td>1</td>\n",
              "      <td>0.000017</td>\n",
              "      <td>0.000942</td>\n",
              "      <td>0.0</td>\n",
              "      <td>0.000942</td>\n",
              "    </tr>\n",
              "    <tr>\n",
              "      <th>2172</th>\n",
              "      <td>5749315133</td>\n",
              "      <td>0.006107</td>\n",
              "      <td>0.000465</td>\n",
              "      <td>0.0</td>\n",
              "      <td>1</td>\n",
              "      <td>0.000266</td>\n",
              "      <td>0.000942</td>\n",
              "      <td>0.0</td>\n",
              "      <td>0.000942</td>\n",
              "    </tr>\n",
              "  </tbody>\n",
              "</table>\n",
              "<p>2173 rows × 9 columns</p>\n",
              "</div>\n",
              "      <button class=\"colab-df-convert\" onclick=\"convertToInteractive('df-2f26dd28-dd3a-4147-bef8-bf0e905a6693')\"\n",
              "              title=\"Convert this dataframe to an interactive table.\"\n",
              "              style=\"display:none;\">\n",
              "        \n",
              "  <svg xmlns=\"http://www.w3.org/2000/svg\" height=\"24px\"viewBox=\"0 0 24 24\"\n",
              "       width=\"24px\">\n",
              "    <path d=\"M0 0h24v24H0V0z\" fill=\"none\"/>\n",
              "    <path d=\"M18.56 5.44l.94 2.06.94-2.06 2.06-.94-2.06-.94-.94-2.06-.94 2.06-2.06.94zm-11 1L8.5 8.5l.94-2.06 2.06-.94-2.06-.94L8.5 2.5l-.94 2.06-2.06.94zm10 10l.94 2.06.94-2.06 2.06-.94-2.06-.94-.94-2.06-.94 2.06-2.06.94z\"/><path d=\"M17.41 7.96l-1.37-1.37c-.4-.4-.92-.59-1.43-.59-.52 0-1.04.2-1.43.59L10.3 9.45l-7.72 7.72c-.78.78-.78 2.05 0 2.83L4 21.41c.39.39.9.59 1.41.59.51 0 1.02-.2 1.41-.59l7.78-7.78 2.81-2.81c.8-.78.8-2.07 0-2.86zM5.41 20L4 18.59l7.72-7.72 1.47 1.35L5.41 20z\"/>\n",
              "  </svg>\n",
              "      </button>\n",
              "      \n",
              "  <style>\n",
              "    .colab-df-container {\n",
              "      display:flex;\n",
              "      flex-wrap:wrap;\n",
              "      gap: 12px;\n",
              "    }\n",
              "\n",
              "    .colab-df-convert {\n",
              "      background-color: #E8F0FE;\n",
              "      border: none;\n",
              "      border-radius: 50%;\n",
              "      cursor: pointer;\n",
              "      display: none;\n",
              "      fill: #1967D2;\n",
              "      height: 32px;\n",
              "      padding: 0 0 0 0;\n",
              "      width: 32px;\n",
              "    }\n",
              "\n",
              "    .colab-df-convert:hover {\n",
              "      background-color: #E2EBFA;\n",
              "      box-shadow: 0px 1px 2px rgba(60, 64, 67, 0.3), 0px 1px 3px 1px rgba(60, 64, 67, 0.15);\n",
              "      fill: #174EA6;\n",
              "    }\n",
              "\n",
              "    [theme=dark] .colab-df-convert {\n",
              "      background-color: #3B4455;\n",
              "      fill: #D2E3FC;\n",
              "    }\n",
              "\n",
              "    [theme=dark] .colab-df-convert:hover {\n",
              "      background-color: #434B5C;\n",
              "      box-shadow: 0px 1px 3px 1px rgba(0, 0, 0, 0.15);\n",
              "      filter: drop-shadow(0px 1px 2px rgba(0, 0, 0, 0.3));\n",
              "      fill: #FFFFFF;\n",
              "    }\n",
              "  </style>\n",
              "\n",
              "      <script>\n",
              "        const buttonEl =\n",
              "          document.querySelector('#df-2f26dd28-dd3a-4147-bef8-bf0e905a6693 button.colab-df-convert');\n",
              "        buttonEl.style.display =\n",
              "          google.colab.kernel.accessAllowed ? 'block' : 'none';\n",
              "\n",
              "        async function convertToInteractive(key) {\n",
              "          const element = document.querySelector('#df-2f26dd28-dd3a-4147-bef8-bf0e905a6693');\n",
              "          const dataTable =\n",
              "            await google.colab.kernel.invokeFunction('convertToInteractive',\n",
              "                                                     [key], {});\n",
              "          if (!dataTable) return;\n",
              "\n",
              "          const docLinkHtml = 'Like what you see? Visit the ' +\n",
              "            '<a target=\"_blank\" href=https://colab.research.google.com/notebooks/data_table.ipynb>data table notebook</a>'\n",
              "            + ' to learn more about interactive tables.';\n",
              "          element.innerHTML = '';\n",
              "          dataTable['output_type'] = 'display_data';\n",
              "          await google.colab.output.renderOutput(dataTable, element);\n",
              "          const docLink = document.createElement('div');\n",
              "          docLink.innerHTML = docLinkHtml;\n",
              "          element.appendChild(docLink);\n",
              "        }\n",
              "      </script>\n",
              "    </div>\n",
              "  </div>\n",
              "  "
            ]
          },
          "metadata": {},
          "execution_count": 283
        }
      ]
    },
    {
      "cell_type": "markdown",
      "source": [
        "## Selecting the final engagement score by adding weights"
      ],
      "metadata": {
        "id": "rsPu8MAD2ugA"
      }
    },
    {
      "cell_type": "code",
      "source": [
        "draft_5['engagement_score']=''"
      ],
      "metadata": {
        "id": "K3cFafYTivo0"
      },
      "execution_count": 284,
      "outputs": []
    },
    {
      "cell_type": "code",
      "source": [
        "for i in range(0,2173):\n",
        "  draft_5['engagement_score'][i]=((draft_5['reaction_count'][i]*0.1)+(draft_5['mentions'][i]*0.2)+(draft_5['avg_texts_per_week'][i]*0.25)+(draft_5['count_of_replies'][i]*0.25)+(draft_5['forwarded'][i]*0.2))"
      ],
      "metadata": {
        "colab": {
          "base_uri": "https://localhost:8080/"
        },
        "id": "DwUOugcKtqQN",
        "outputId": "d1d8669e-38cb-4428-d3fb-b4647c6631b1"
      },
      "execution_count": 285,
      "outputs": [
        {
          "output_type": "stream",
          "name": "stderr",
          "text": [
            "/usr/local/lib/python3.7/dist-packages/ipykernel_launcher.py:2: SettingWithCopyWarning: \n",
            "A value is trying to be set on a copy of a slice from a DataFrame\n",
            "\n",
            "See the caveats in the documentation: https://pandas.pydata.org/pandas-docs/stable/user_guide/indexing.html#returning-a-view-versus-a-copy\n",
            "  \n"
          ]
        }
      ]
    },
    {
      "cell_type": "code",
      "source": [
        "draft_5.head()"
      ],
      "metadata": {
        "colab": {
          "base_uri": "https://localhost:8080/",
          "height": 270
        },
        "id": "T9nHEfoDt78d",
        "outputId": "8c741b0e-3914-4a4f-9d03-12da7e4f3a6f"
      },
      "execution_count": 286,
      "outputs": [
        {
          "output_type": "execute_result",
          "data": {
            "text/plain": [
              "   user_id  total_texts  reaction_count  mentions  count_of_active_weeks  \\\n",
              "0    65666     0.000382        0.000000       0.0                      1   \n",
              "1   226188     0.000382        0.000000       0.0                      1   \n",
              "2   291620     0.000382        0.000465       0.0                      1   \n",
              "3   355676     0.017176        0.004647       0.0                      6   \n",
              "4   376593     0.004198        0.012546       0.0                      4   \n",
              "\n",
              "   avg_texts_per_week  count_of_replies  forwarded   replies engagement_score  \n",
              "0            0.000017          0.000000        0.0  0.000000         0.000004  \n",
              "1            0.000017          0.000942        0.0  0.000942          0.00024  \n",
              "2            0.000017          0.000000        0.0  0.000000         0.000051  \n",
              "3            0.004481          0.028249        0.0  0.028249         0.008647  \n",
              "4            0.000730          0.001883        0.0  0.001883         0.001908  "
            ],
            "text/html": [
              "\n",
              "  <div id=\"df-cd1d7d67-a7c1-4e60-a5ef-b88709fb2187\">\n",
              "    <div class=\"colab-df-container\">\n",
              "      <div>\n",
              "<style scoped>\n",
              "    .dataframe tbody tr th:only-of-type {\n",
              "        vertical-align: middle;\n",
              "    }\n",
              "\n",
              "    .dataframe tbody tr th {\n",
              "        vertical-align: top;\n",
              "    }\n",
              "\n",
              "    .dataframe thead th {\n",
              "        text-align: right;\n",
              "    }\n",
              "</style>\n",
              "<table border=\"1\" class=\"dataframe\">\n",
              "  <thead>\n",
              "    <tr style=\"text-align: right;\">\n",
              "      <th></th>\n",
              "      <th>user_id</th>\n",
              "      <th>total_texts</th>\n",
              "      <th>reaction_count</th>\n",
              "      <th>mentions</th>\n",
              "      <th>count_of_active_weeks</th>\n",
              "      <th>avg_texts_per_week</th>\n",
              "      <th>count_of_replies</th>\n",
              "      <th>forwarded</th>\n",
              "      <th>replies</th>\n",
              "      <th>engagement_score</th>\n",
              "    </tr>\n",
              "  </thead>\n",
              "  <tbody>\n",
              "    <tr>\n",
              "      <th>0</th>\n",
              "      <td>65666</td>\n",
              "      <td>0.000382</td>\n",
              "      <td>0.000000</td>\n",
              "      <td>0.0</td>\n",
              "      <td>1</td>\n",
              "      <td>0.000017</td>\n",
              "      <td>0.000000</td>\n",
              "      <td>0.0</td>\n",
              "      <td>0.000000</td>\n",
              "      <td>0.000004</td>\n",
              "    </tr>\n",
              "    <tr>\n",
              "      <th>1</th>\n",
              "      <td>226188</td>\n",
              "      <td>0.000382</td>\n",
              "      <td>0.000000</td>\n",
              "      <td>0.0</td>\n",
              "      <td>1</td>\n",
              "      <td>0.000017</td>\n",
              "      <td>0.000942</td>\n",
              "      <td>0.0</td>\n",
              "      <td>0.000942</td>\n",
              "      <td>0.00024</td>\n",
              "    </tr>\n",
              "    <tr>\n",
              "      <th>2</th>\n",
              "      <td>291620</td>\n",
              "      <td>0.000382</td>\n",
              "      <td>0.000465</td>\n",
              "      <td>0.0</td>\n",
              "      <td>1</td>\n",
              "      <td>0.000017</td>\n",
              "      <td>0.000000</td>\n",
              "      <td>0.0</td>\n",
              "      <td>0.000000</td>\n",
              "      <td>0.000051</td>\n",
              "    </tr>\n",
              "    <tr>\n",
              "      <th>3</th>\n",
              "      <td>355676</td>\n",
              "      <td>0.017176</td>\n",
              "      <td>0.004647</td>\n",
              "      <td>0.0</td>\n",
              "      <td>6</td>\n",
              "      <td>0.004481</td>\n",
              "      <td>0.028249</td>\n",
              "      <td>0.0</td>\n",
              "      <td>0.028249</td>\n",
              "      <td>0.008647</td>\n",
              "    </tr>\n",
              "    <tr>\n",
              "      <th>4</th>\n",
              "      <td>376593</td>\n",
              "      <td>0.004198</td>\n",
              "      <td>0.012546</td>\n",
              "      <td>0.0</td>\n",
              "      <td>4</td>\n",
              "      <td>0.000730</td>\n",
              "      <td>0.001883</td>\n",
              "      <td>0.0</td>\n",
              "      <td>0.001883</td>\n",
              "      <td>0.001908</td>\n",
              "    </tr>\n",
              "  </tbody>\n",
              "</table>\n",
              "</div>\n",
              "      <button class=\"colab-df-convert\" onclick=\"convertToInteractive('df-cd1d7d67-a7c1-4e60-a5ef-b88709fb2187')\"\n",
              "              title=\"Convert this dataframe to an interactive table.\"\n",
              "              style=\"display:none;\">\n",
              "        \n",
              "  <svg xmlns=\"http://www.w3.org/2000/svg\" height=\"24px\"viewBox=\"0 0 24 24\"\n",
              "       width=\"24px\">\n",
              "    <path d=\"M0 0h24v24H0V0z\" fill=\"none\"/>\n",
              "    <path d=\"M18.56 5.44l.94 2.06.94-2.06 2.06-.94-2.06-.94-.94-2.06-.94 2.06-2.06.94zm-11 1L8.5 8.5l.94-2.06 2.06-.94-2.06-.94L8.5 2.5l-.94 2.06-2.06.94zm10 10l.94 2.06.94-2.06 2.06-.94-2.06-.94-.94-2.06-.94 2.06-2.06.94z\"/><path d=\"M17.41 7.96l-1.37-1.37c-.4-.4-.92-.59-1.43-.59-.52 0-1.04.2-1.43.59L10.3 9.45l-7.72 7.72c-.78.78-.78 2.05 0 2.83L4 21.41c.39.39.9.59 1.41.59.51 0 1.02-.2 1.41-.59l7.78-7.78 2.81-2.81c.8-.78.8-2.07 0-2.86zM5.41 20L4 18.59l7.72-7.72 1.47 1.35L5.41 20z\"/>\n",
              "  </svg>\n",
              "      </button>\n",
              "      \n",
              "  <style>\n",
              "    .colab-df-container {\n",
              "      display:flex;\n",
              "      flex-wrap:wrap;\n",
              "      gap: 12px;\n",
              "    }\n",
              "\n",
              "    .colab-df-convert {\n",
              "      background-color: #E8F0FE;\n",
              "      border: none;\n",
              "      border-radius: 50%;\n",
              "      cursor: pointer;\n",
              "      display: none;\n",
              "      fill: #1967D2;\n",
              "      height: 32px;\n",
              "      padding: 0 0 0 0;\n",
              "      width: 32px;\n",
              "    }\n",
              "\n",
              "    .colab-df-convert:hover {\n",
              "      background-color: #E2EBFA;\n",
              "      box-shadow: 0px 1px 2px rgba(60, 64, 67, 0.3), 0px 1px 3px 1px rgba(60, 64, 67, 0.15);\n",
              "      fill: #174EA6;\n",
              "    }\n",
              "\n",
              "    [theme=dark] .colab-df-convert {\n",
              "      background-color: #3B4455;\n",
              "      fill: #D2E3FC;\n",
              "    }\n",
              "\n",
              "    [theme=dark] .colab-df-convert:hover {\n",
              "      background-color: #434B5C;\n",
              "      box-shadow: 0px 1px 3px 1px rgba(0, 0, 0, 0.15);\n",
              "      filter: drop-shadow(0px 1px 2px rgba(0, 0, 0, 0.3));\n",
              "      fill: #FFFFFF;\n",
              "    }\n",
              "  </style>\n",
              "\n",
              "      <script>\n",
              "        const buttonEl =\n",
              "          document.querySelector('#df-cd1d7d67-a7c1-4e60-a5ef-b88709fb2187 button.colab-df-convert');\n",
              "        buttonEl.style.display =\n",
              "          google.colab.kernel.accessAllowed ? 'block' : 'none';\n",
              "\n",
              "        async function convertToInteractive(key) {\n",
              "          const element = document.querySelector('#df-cd1d7d67-a7c1-4e60-a5ef-b88709fb2187');\n",
              "          const dataTable =\n",
              "            await google.colab.kernel.invokeFunction('convertToInteractive',\n",
              "                                                     [key], {});\n",
              "          if (!dataTable) return;\n",
              "\n",
              "          const docLinkHtml = 'Like what you see? Visit the ' +\n",
              "            '<a target=\"_blank\" href=https://colab.research.google.com/notebooks/data_table.ipynb>data table notebook</a>'\n",
              "            + ' to learn more about interactive tables.';\n",
              "          element.innerHTML = '';\n",
              "          dataTable['output_type'] = 'display_data';\n",
              "          await google.colab.output.renderOutput(dataTable, element);\n",
              "          const docLink = document.createElement('div');\n",
              "          docLink.innerHTML = docLinkHtml;\n",
              "          element.appendChild(docLink);\n",
              "        }\n",
              "      </script>\n",
              "    </div>\n",
              "  </div>\n",
              "  "
            ]
          },
          "metadata": {},
          "execution_count": 286
        }
      ]
    },
    {
      "cell_type": "code",
      "source": [
        "draft_6 = draft_5[['user_id', 'engagement_score']]"
      ],
      "metadata": {
        "id": "S9GqqZ7jt_fv"
      },
      "execution_count": 287,
      "outputs": []
    },
    {
      "cell_type": "code",
      "source": [
        "draft_6=draft_6.sort_values('engagement_score',ascending=False)"
      ],
      "metadata": {
        "id": "yvHHGFVVuOHL"
      },
      "execution_count": 288,
      "outputs": []
    },
    {
      "cell_type": "code",
      "source": [
        "draft_6.head(10)"
      ],
      "metadata": {
        "colab": {
          "base_uri": "https://localhost:8080/",
          "height": 363
        },
        "id": "r2Yj46NZ6dwz",
        "outputId": "95940b79-d310-46ac-ef7c-9bcba74d775e"
      },
      "execution_count": 289,
      "outputs": [
        {
          "output_type": "execute_result",
          "data": {
            "text/plain": [
              "        user_id engagement_score\n",
              "538   375542731         0.810204\n",
              "818   464619027         0.625998\n",
              "857   477151824         0.161102\n",
              "1245  864624886         0.136413\n",
              "556   380905831         0.099928\n",
              "59     38055419         0.098066\n",
              "804   459392242         0.094736\n",
              "1215  818896091         0.084897\n",
              "489   358276014         0.082749\n",
              "935   508640239         0.080742"
            ],
            "text/html": [
              "\n",
              "  <div id=\"df-3e574d12-0520-43f0-849e-b9bf643a0d1d\">\n",
              "    <div class=\"colab-df-container\">\n",
              "      <div>\n",
              "<style scoped>\n",
              "    .dataframe tbody tr th:only-of-type {\n",
              "        vertical-align: middle;\n",
              "    }\n",
              "\n",
              "    .dataframe tbody tr th {\n",
              "        vertical-align: top;\n",
              "    }\n",
              "\n",
              "    .dataframe thead th {\n",
              "        text-align: right;\n",
              "    }\n",
              "</style>\n",
              "<table border=\"1\" class=\"dataframe\">\n",
              "  <thead>\n",
              "    <tr style=\"text-align: right;\">\n",
              "      <th></th>\n",
              "      <th>user_id</th>\n",
              "      <th>engagement_score</th>\n",
              "    </tr>\n",
              "  </thead>\n",
              "  <tbody>\n",
              "    <tr>\n",
              "      <th>538</th>\n",
              "      <td>375542731</td>\n",
              "      <td>0.810204</td>\n",
              "    </tr>\n",
              "    <tr>\n",
              "      <th>818</th>\n",
              "      <td>464619027</td>\n",
              "      <td>0.625998</td>\n",
              "    </tr>\n",
              "    <tr>\n",
              "      <th>857</th>\n",
              "      <td>477151824</td>\n",
              "      <td>0.161102</td>\n",
              "    </tr>\n",
              "    <tr>\n",
              "      <th>1245</th>\n",
              "      <td>864624886</td>\n",
              "      <td>0.136413</td>\n",
              "    </tr>\n",
              "    <tr>\n",
              "      <th>556</th>\n",
              "      <td>380905831</td>\n",
              "      <td>0.099928</td>\n",
              "    </tr>\n",
              "    <tr>\n",
              "      <th>59</th>\n",
              "      <td>38055419</td>\n",
              "      <td>0.098066</td>\n",
              "    </tr>\n",
              "    <tr>\n",
              "      <th>804</th>\n",
              "      <td>459392242</td>\n",
              "      <td>0.094736</td>\n",
              "    </tr>\n",
              "    <tr>\n",
              "      <th>1215</th>\n",
              "      <td>818896091</td>\n",
              "      <td>0.084897</td>\n",
              "    </tr>\n",
              "    <tr>\n",
              "      <th>489</th>\n",
              "      <td>358276014</td>\n",
              "      <td>0.082749</td>\n",
              "    </tr>\n",
              "    <tr>\n",
              "      <th>935</th>\n",
              "      <td>508640239</td>\n",
              "      <td>0.080742</td>\n",
              "    </tr>\n",
              "  </tbody>\n",
              "</table>\n",
              "</div>\n",
              "      <button class=\"colab-df-convert\" onclick=\"convertToInteractive('df-3e574d12-0520-43f0-849e-b9bf643a0d1d')\"\n",
              "              title=\"Convert this dataframe to an interactive table.\"\n",
              "              style=\"display:none;\">\n",
              "        \n",
              "  <svg xmlns=\"http://www.w3.org/2000/svg\" height=\"24px\"viewBox=\"0 0 24 24\"\n",
              "       width=\"24px\">\n",
              "    <path d=\"M0 0h24v24H0V0z\" fill=\"none\"/>\n",
              "    <path d=\"M18.56 5.44l.94 2.06.94-2.06 2.06-.94-2.06-.94-.94-2.06-.94 2.06-2.06.94zm-11 1L8.5 8.5l.94-2.06 2.06-.94-2.06-.94L8.5 2.5l-.94 2.06-2.06.94zm10 10l.94 2.06.94-2.06 2.06-.94-2.06-.94-.94-2.06-.94 2.06-2.06.94z\"/><path d=\"M17.41 7.96l-1.37-1.37c-.4-.4-.92-.59-1.43-.59-.52 0-1.04.2-1.43.59L10.3 9.45l-7.72 7.72c-.78.78-.78 2.05 0 2.83L4 21.41c.39.39.9.59 1.41.59.51 0 1.02-.2 1.41-.59l7.78-7.78 2.81-2.81c.8-.78.8-2.07 0-2.86zM5.41 20L4 18.59l7.72-7.72 1.47 1.35L5.41 20z\"/>\n",
              "  </svg>\n",
              "      </button>\n",
              "      \n",
              "  <style>\n",
              "    .colab-df-container {\n",
              "      display:flex;\n",
              "      flex-wrap:wrap;\n",
              "      gap: 12px;\n",
              "    }\n",
              "\n",
              "    .colab-df-convert {\n",
              "      background-color: #E8F0FE;\n",
              "      border: none;\n",
              "      border-radius: 50%;\n",
              "      cursor: pointer;\n",
              "      display: none;\n",
              "      fill: #1967D2;\n",
              "      height: 32px;\n",
              "      padding: 0 0 0 0;\n",
              "      width: 32px;\n",
              "    }\n",
              "\n",
              "    .colab-df-convert:hover {\n",
              "      background-color: #E2EBFA;\n",
              "      box-shadow: 0px 1px 2px rgba(60, 64, 67, 0.3), 0px 1px 3px 1px rgba(60, 64, 67, 0.15);\n",
              "      fill: #174EA6;\n",
              "    }\n",
              "\n",
              "    [theme=dark] .colab-df-convert {\n",
              "      background-color: #3B4455;\n",
              "      fill: #D2E3FC;\n",
              "    }\n",
              "\n",
              "    [theme=dark] .colab-df-convert:hover {\n",
              "      background-color: #434B5C;\n",
              "      box-shadow: 0px 1px 3px 1px rgba(0, 0, 0, 0.15);\n",
              "      filter: drop-shadow(0px 1px 2px rgba(0, 0, 0, 0.3));\n",
              "      fill: #FFFFFF;\n",
              "    }\n",
              "  </style>\n",
              "\n",
              "      <script>\n",
              "        const buttonEl =\n",
              "          document.querySelector('#df-3e574d12-0520-43f0-849e-b9bf643a0d1d button.colab-df-convert');\n",
              "        buttonEl.style.display =\n",
              "          google.colab.kernel.accessAllowed ? 'block' : 'none';\n",
              "\n",
              "        async function convertToInteractive(key) {\n",
              "          const element = document.querySelector('#df-3e574d12-0520-43f0-849e-b9bf643a0d1d');\n",
              "          const dataTable =\n",
              "            await google.colab.kernel.invokeFunction('convertToInteractive',\n",
              "                                                     [key], {});\n",
              "          if (!dataTable) return;\n",
              "\n",
              "          const docLinkHtml = 'Like what you see? Visit the ' +\n",
              "            '<a target=\"_blank\" href=https://colab.research.google.com/notebooks/data_table.ipynb>data table notebook</a>'\n",
              "            + ' to learn more about interactive tables.';\n",
              "          element.innerHTML = '';\n",
              "          dataTable['output_type'] = 'display_data';\n",
              "          await google.colab.output.renderOutput(dataTable, element);\n",
              "          const docLink = document.createElement('div');\n",
              "          docLink.innerHTML = docLinkHtml;\n",
              "          element.appendChild(docLink);\n",
              "        }\n",
              "      </script>\n",
              "    </div>\n",
              "  </div>\n",
              "  "
            ]
          },
          "metadata": {},
          "execution_count": 289
        }
      ]
    },
    {
      "cell_type": "code",
      "source": [
        "#draft_6.to_csv('submission.csv',index=False)"
      ],
      "metadata": {
        "id": "9cok-WoZuPHo"
      },
      "execution_count": 290,
      "outputs": []
    }
  ]
}